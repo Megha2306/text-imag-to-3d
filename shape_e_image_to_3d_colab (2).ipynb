{
  "nbformat": 4,
  "nbformat_minor": 0,
  "metadata": {
    "colab": {
      "provenance": [],
      "gpuType": "T4"
    },
    "kernelspec": {
      "name": "python3",
      "display_name": "Python 3"
    },
    "language_info": {
      "name": "python"
    },
    "accelerator": "GPU",
    "widgets": {
      "application/vnd.jupyter.widget-state+json": {
        "a08f5fb15db24927b09e0c2dc985dc7d": {
          "model_module": "@jupyter-widgets/controls",
          "model_name": "HBoxModel",
          "model_module_version": "1.5.0",
          "state": {
            "_dom_classes": [],
            "_model_module": "@jupyter-widgets/controls",
            "_model_module_version": "1.5.0",
            "_model_name": "HBoxModel",
            "_view_count": null,
            "_view_module": "@jupyter-widgets/controls",
            "_view_module_version": "1.5.0",
            "_view_name": "HBoxView",
            "box_style": "",
            "children": [
              "IPY_MODEL_3320e7d0a9984888a5486a7ac448b062",
              "IPY_MODEL_181514a38b0f42569a68b65cd6f0c0c9",
              "IPY_MODEL_1d701e1198314f3d994e45a6404d9031"
            ],
            "layout": "IPY_MODEL_a92011c5de4f495a9f91af0d5464da53"
          }
        },
        "3320e7d0a9984888a5486a7ac448b062": {
          "model_module": "@jupyter-widgets/controls",
          "model_name": "HTMLModel",
          "model_module_version": "1.5.0",
          "state": {
            "_dom_classes": [],
            "_model_module": "@jupyter-widgets/controls",
            "_model_module_version": "1.5.0",
            "_model_name": "HTMLModel",
            "_view_count": null,
            "_view_module": "@jupyter-widgets/controls",
            "_view_module_version": "1.5.0",
            "_view_name": "HTMLView",
            "description": "",
            "description_tooltip": null,
            "layout": "IPY_MODEL_b48373efa7ac4724a1e97406bd6208ae",
            "placeholder": "​",
            "style": "IPY_MODEL_9e186609d65149679580797b2e38e831",
            "value": "100%"
          }
        },
        "181514a38b0f42569a68b65cd6f0c0c9": {
          "model_module": "@jupyter-widgets/controls",
          "model_name": "FloatProgressModel",
          "model_module_version": "1.5.0",
          "state": {
            "_dom_classes": [],
            "_model_module": "@jupyter-widgets/controls",
            "_model_module_version": "1.5.0",
            "_model_name": "FloatProgressModel",
            "_view_count": null,
            "_view_module": "@jupyter-widgets/controls",
            "_view_module_version": "1.5.0",
            "_view_name": "ProgressView",
            "bar_style": "success",
            "description": "",
            "description_tooltip": null,
            "layout": "IPY_MODEL_20e86ea2833a426b85f3e1d11136bc96",
            "max": 1776048343,
            "min": 0,
            "orientation": "horizontal",
            "style": "IPY_MODEL_092797884b1c48f5867be75f32c9bf79",
            "value": 1776048343
          }
        },
        "1d701e1198314f3d994e45a6404d9031": {
          "model_module": "@jupyter-widgets/controls",
          "model_name": "HTMLModel",
          "model_module_version": "1.5.0",
          "state": {
            "_dom_classes": [],
            "_model_module": "@jupyter-widgets/controls",
            "_model_module_version": "1.5.0",
            "_model_name": "HTMLModel",
            "_view_count": null,
            "_view_module": "@jupyter-widgets/controls",
            "_view_module_version": "1.5.0",
            "_view_name": "HTMLView",
            "description": "",
            "description_tooltip": null,
            "layout": "IPY_MODEL_2648ac44ce49443cbdfd38485bacb1b1",
            "placeholder": "​",
            "style": "IPY_MODEL_0d0b35c95d4b41ab98e9551199dce7d4",
            "value": " 1.78G/1.78G [00:37&lt;00:00, 42.2MiB/s]"
          }
        },
        "a92011c5de4f495a9f91af0d5464da53": {
          "model_module": "@jupyter-widgets/base",
          "model_name": "LayoutModel",
          "model_module_version": "1.2.0",
          "state": {
            "_model_module": "@jupyter-widgets/base",
            "_model_module_version": "1.2.0",
            "_model_name": "LayoutModel",
            "_view_count": null,
            "_view_module": "@jupyter-widgets/base",
            "_view_module_version": "1.2.0",
            "_view_name": "LayoutView",
            "align_content": null,
            "align_items": null,
            "align_self": null,
            "border": null,
            "bottom": null,
            "display": null,
            "flex": null,
            "flex_flow": null,
            "grid_area": null,
            "grid_auto_columns": null,
            "grid_auto_flow": null,
            "grid_auto_rows": null,
            "grid_column": null,
            "grid_gap": null,
            "grid_row": null,
            "grid_template_areas": null,
            "grid_template_columns": null,
            "grid_template_rows": null,
            "height": null,
            "justify_content": null,
            "justify_items": null,
            "left": null,
            "margin": null,
            "max_height": null,
            "max_width": null,
            "min_height": null,
            "min_width": null,
            "object_fit": null,
            "object_position": null,
            "order": null,
            "overflow": null,
            "overflow_x": null,
            "overflow_y": null,
            "padding": null,
            "right": null,
            "top": null,
            "visibility": null,
            "width": null
          }
        },
        "b48373efa7ac4724a1e97406bd6208ae": {
          "model_module": "@jupyter-widgets/base",
          "model_name": "LayoutModel",
          "model_module_version": "1.2.0",
          "state": {
            "_model_module": "@jupyter-widgets/base",
            "_model_module_version": "1.2.0",
            "_model_name": "LayoutModel",
            "_view_count": null,
            "_view_module": "@jupyter-widgets/base",
            "_view_module_version": "1.2.0",
            "_view_name": "LayoutView",
            "align_content": null,
            "align_items": null,
            "align_self": null,
            "border": null,
            "bottom": null,
            "display": null,
            "flex": null,
            "flex_flow": null,
            "grid_area": null,
            "grid_auto_columns": null,
            "grid_auto_flow": null,
            "grid_auto_rows": null,
            "grid_column": null,
            "grid_gap": null,
            "grid_row": null,
            "grid_template_areas": null,
            "grid_template_columns": null,
            "grid_template_rows": null,
            "height": null,
            "justify_content": null,
            "justify_items": null,
            "left": null,
            "margin": null,
            "max_height": null,
            "max_width": null,
            "min_height": null,
            "min_width": null,
            "object_fit": null,
            "object_position": null,
            "order": null,
            "overflow": null,
            "overflow_x": null,
            "overflow_y": null,
            "padding": null,
            "right": null,
            "top": null,
            "visibility": null,
            "width": null
          }
        },
        "9e186609d65149679580797b2e38e831": {
          "model_module": "@jupyter-widgets/controls",
          "model_name": "DescriptionStyleModel",
          "model_module_version": "1.5.0",
          "state": {
            "_model_module": "@jupyter-widgets/controls",
            "_model_module_version": "1.5.0",
            "_model_name": "DescriptionStyleModel",
            "_view_count": null,
            "_view_module": "@jupyter-widgets/base",
            "_view_module_version": "1.2.0",
            "_view_name": "StyleView",
            "description_width": ""
          }
        },
        "20e86ea2833a426b85f3e1d11136bc96": {
          "model_module": "@jupyter-widgets/base",
          "model_name": "LayoutModel",
          "model_module_version": "1.2.0",
          "state": {
            "_model_module": "@jupyter-widgets/base",
            "_model_module_version": "1.2.0",
            "_model_name": "LayoutModel",
            "_view_count": null,
            "_view_module": "@jupyter-widgets/base",
            "_view_module_version": "1.2.0",
            "_view_name": "LayoutView",
            "align_content": null,
            "align_items": null,
            "align_self": null,
            "border": null,
            "bottom": null,
            "display": null,
            "flex": null,
            "flex_flow": null,
            "grid_area": null,
            "grid_auto_columns": null,
            "grid_auto_flow": null,
            "grid_auto_rows": null,
            "grid_column": null,
            "grid_gap": null,
            "grid_row": null,
            "grid_template_areas": null,
            "grid_template_columns": null,
            "grid_template_rows": null,
            "height": null,
            "justify_content": null,
            "justify_items": null,
            "left": null,
            "margin": null,
            "max_height": null,
            "max_width": null,
            "min_height": null,
            "min_width": null,
            "object_fit": null,
            "object_position": null,
            "order": null,
            "overflow": null,
            "overflow_x": null,
            "overflow_y": null,
            "padding": null,
            "right": null,
            "top": null,
            "visibility": null,
            "width": null
          }
        },
        "092797884b1c48f5867be75f32c9bf79": {
          "model_module": "@jupyter-widgets/controls",
          "model_name": "ProgressStyleModel",
          "model_module_version": "1.5.0",
          "state": {
            "_model_module": "@jupyter-widgets/controls",
            "_model_module_version": "1.5.0",
            "_model_name": "ProgressStyleModel",
            "_view_count": null,
            "_view_module": "@jupyter-widgets/base",
            "_view_module_version": "1.2.0",
            "_view_name": "StyleView",
            "bar_color": null,
            "description_width": ""
          }
        },
        "2648ac44ce49443cbdfd38485bacb1b1": {
          "model_module": "@jupyter-widgets/base",
          "model_name": "LayoutModel",
          "model_module_version": "1.2.0",
          "state": {
            "_model_module": "@jupyter-widgets/base",
            "_model_module_version": "1.2.0",
            "_model_name": "LayoutModel",
            "_view_count": null,
            "_view_module": "@jupyter-widgets/base",
            "_view_module_version": "1.2.0",
            "_view_name": "LayoutView",
            "align_content": null,
            "align_items": null,
            "align_self": null,
            "border": null,
            "bottom": null,
            "display": null,
            "flex": null,
            "flex_flow": null,
            "grid_area": null,
            "grid_auto_columns": null,
            "grid_auto_flow": null,
            "grid_auto_rows": null,
            "grid_column": null,
            "grid_gap": null,
            "grid_row": null,
            "grid_template_areas": null,
            "grid_template_columns": null,
            "grid_template_rows": null,
            "height": null,
            "justify_content": null,
            "justify_items": null,
            "left": null,
            "margin": null,
            "max_height": null,
            "max_width": null,
            "min_height": null,
            "min_width": null,
            "object_fit": null,
            "object_position": null,
            "order": null,
            "overflow": null,
            "overflow_x": null,
            "overflow_y": null,
            "padding": null,
            "right": null,
            "top": null,
            "visibility": null,
            "width": null
          }
        },
        "0d0b35c95d4b41ab98e9551199dce7d4": {
          "model_module": "@jupyter-widgets/controls",
          "model_name": "DescriptionStyleModel",
          "model_module_version": "1.5.0",
          "state": {
            "_model_module": "@jupyter-widgets/controls",
            "_model_module_version": "1.5.0",
            "_model_name": "DescriptionStyleModel",
            "_view_count": null,
            "_view_module": "@jupyter-widgets/base",
            "_view_module_version": "1.2.0",
            "_view_name": "StyleView",
            "description_width": ""
          }
        },
        "30595cd6446343ffbb08fa99e88a17e1": {
          "model_module": "@jupyter-widgets/controls",
          "model_name": "HBoxModel",
          "model_module_version": "1.5.0",
          "state": {
            "_dom_classes": [],
            "_model_module": "@jupyter-widgets/controls",
            "_model_module_version": "1.5.0",
            "_model_name": "HBoxModel",
            "_view_count": null,
            "_view_module": "@jupyter-widgets/controls",
            "_view_module_version": "1.5.0",
            "_view_name": "HBoxView",
            "box_style": "",
            "children": [
              "IPY_MODEL_cc3c08935783471a867ff1233f2ec64e",
              "IPY_MODEL_44c8335c182a40398e409ebf403d9c4f",
              "IPY_MODEL_612828c370b640f8981e9b4a76941352"
            ],
            "layout": "IPY_MODEL_4038c547787f4f02a800f2009165f04f"
          }
        },
        "cc3c08935783471a867ff1233f2ec64e": {
          "model_module": "@jupyter-widgets/controls",
          "model_name": "HTMLModel",
          "model_module_version": "1.5.0",
          "state": {
            "_dom_classes": [],
            "_model_module": "@jupyter-widgets/controls",
            "_model_module_version": "1.5.0",
            "_model_name": "HTMLModel",
            "_view_count": null,
            "_view_module": "@jupyter-widgets/controls",
            "_view_module_version": "1.5.0",
            "_view_name": "HTMLView",
            "description": "",
            "description_tooltip": null,
            "layout": "IPY_MODEL_82706dc5377c47eeab7fcc2c5a1a475a",
            "placeholder": "​",
            "style": "IPY_MODEL_d2cc796b861d46c8a53a01470bbac01c",
            "value": "100%"
          }
        },
        "44c8335c182a40398e409ebf403d9c4f": {
          "model_module": "@jupyter-widgets/controls",
          "model_name": "FloatProgressModel",
          "model_module_version": "1.5.0",
          "state": {
            "_dom_classes": [],
            "_model_module": "@jupyter-widgets/controls",
            "_model_module_version": "1.5.0",
            "_model_name": "FloatProgressModel",
            "_view_count": null,
            "_view_module": "@jupyter-widgets/controls",
            "_view_module_version": "1.5.0",
            "_view_name": "ProgressView",
            "bar_style": "success",
            "description": "",
            "description_tooltip": null,
            "layout": "IPY_MODEL_e327e26e659e45dca99508a3ae9272b1",
            "max": 1263925407,
            "min": 0,
            "orientation": "horizontal",
            "style": "IPY_MODEL_6b8fdec9e2434ca09a0958c04deb1836",
            "value": 1263925407
          }
        },
        "612828c370b640f8981e9b4a76941352": {
          "model_module": "@jupyter-widgets/controls",
          "model_name": "HTMLModel",
          "model_module_version": "1.5.0",
          "state": {
            "_dom_classes": [],
            "_model_module": "@jupyter-widgets/controls",
            "_model_module_version": "1.5.0",
            "_model_name": "HTMLModel",
            "_view_count": null,
            "_view_module": "@jupyter-widgets/controls",
            "_view_module_version": "1.5.0",
            "_view_name": "HTMLView",
            "description": "",
            "description_tooltip": null,
            "layout": "IPY_MODEL_189b1585266d43d3baef2a4014a4a303",
            "placeholder": "​",
            "style": "IPY_MODEL_bc232dc6305f4a58a3c88f6da94a7dec",
            "value": " 1.26G/1.26G [00:22&lt;00:00, 72.6MiB/s]"
          }
        },
        "4038c547787f4f02a800f2009165f04f": {
          "model_module": "@jupyter-widgets/base",
          "model_name": "LayoutModel",
          "model_module_version": "1.2.0",
          "state": {
            "_model_module": "@jupyter-widgets/base",
            "_model_module_version": "1.2.0",
            "_model_name": "LayoutModel",
            "_view_count": null,
            "_view_module": "@jupyter-widgets/base",
            "_view_module_version": "1.2.0",
            "_view_name": "LayoutView",
            "align_content": null,
            "align_items": null,
            "align_self": null,
            "border": null,
            "bottom": null,
            "display": null,
            "flex": null,
            "flex_flow": null,
            "grid_area": null,
            "grid_auto_columns": null,
            "grid_auto_flow": null,
            "grid_auto_rows": null,
            "grid_column": null,
            "grid_gap": null,
            "grid_row": null,
            "grid_template_areas": null,
            "grid_template_columns": null,
            "grid_template_rows": null,
            "height": null,
            "justify_content": null,
            "justify_items": null,
            "left": null,
            "margin": null,
            "max_height": null,
            "max_width": null,
            "min_height": null,
            "min_width": null,
            "object_fit": null,
            "object_position": null,
            "order": null,
            "overflow": null,
            "overflow_x": null,
            "overflow_y": null,
            "padding": null,
            "right": null,
            "top": null,
            "visibility": null,
            "width": null
          }
        },
        "82706dc5377c47eeab7fcc2c5a1a475a": {
          "model_module": "@jupyter-widgets/base",
          "model_name": "LayoutModel",
          "model_module_version": "1.2.0",
          "state": {
            "_model_module": "@jupyter-widgets/base",
            "_model_module_version": "1.2.0",
            "_model_name": "LayoutModel",
            "_view_count": null,
            "_view_module": "@jupyter-widgets/base",
            "_view_module_version": "1.2.0",
            "_view_name": "LayoutView",
            "align_content": null,
            "align_items": null,
            "align_self": null,
            "border": null,
            "bottom": null,
            "display": null,
            "flex": null,
            "flex_flow": null,
            "grid_area": null,
            "grid_auto_columns": null,
            "grid_auto_flow": null,
            "grid_auto_rows": null,
            "grid_column": null,
            "grid_gap": null,
            "grid_row": null,
            "grid_template_areas": null,
            "grid_template_columns": null,
            "grid_template_rows": null,
            "height": null,
            "justify_content": null,
            "justify_items": null,
            "left": null,
            "margin": null,
            "max_height": null,
            "max_width": null,
            "min_height": null,
            "min_width": null,
            "object_fit": null,
            "object_position": null,
            "order": null,
            "overflow": null,
            "overflow_x": null,
            "overflow_y": null,
            "padding": null,
            "right": null,
            "top": null,
            "visibility": null,
            "width": null
          }
        },
        "d2cc796b861d46c8a53a01470bbac01c": {
          "model_module": "@jupyter-widgets/controls",
          "model_name": "DescriptionStyleModel",
          "model_module_version": "1.5.0",
          "state": {
            "_model_module": "@jupyter-widgets/controls",
            "_model_module_version": "1.5.0",
            "_model_name": "DescriptionStyleModel",
            "_view_count": null,
            "_view_module": "@jupyter-widgets/base",
            "_view_module_version": "1.2.0",
            "_view_name": "StyleView",
            "description_width": ""
          }
        },
        "e327e26e659e45dca99508a3ae9272b1": {
          "model_module": "@jupyter-widgets/base",
          "model_name": "LayoutModel",
          "model_module_version": "1.2.0",
          "state": {
            "_model_module": "@jupyter-widgets/base",
            "_model_module_version": "1.2.0",
            "_model_name": "LayoutModel",
            "_view_count": null,
            "_view_module": "@jupyter-widgets/base",
            "_view_module_version": "1.2.0",
            "_view_name": "LayoutView",
            "align_content": null,
            "align_items": null,
            "align_self": null,
            "border": null,
            "bottom": null,
            "display": null,
            "flex": null,
            "flex_flow": null,
            "grid_area": null,
            "grid_auto_columns": null,
            "grid_auto_flow": null,
            "grid_auto_rows": null,
            "grid_column": null,
            "grid_gap": null,
            "grid_row": null,
            "grid_template_areas": null,
            "grid_template_columns": null,
            "grid_template_rows": null,
            "height": null,
            "justify_content": null,
            "justify_items": null,
            "left": null,
            "margin": null,
            "max_height": null,
            "max_width": null,
            "min_height": null,
            "min_width": null,
            "object_fit": null,
            "object_position": null,
            "order": null,
            "overflow": null,
            "overflow_x": null,
            "overflow_y": null,
            "padding": null,
            "right": null,
            "top": null,
            "visibility": null,
            "width": null
          }
        },
        "6b8fdec9e2434ca09a0958c04deb1836": {
          "model_module": "@jupyter-widgets/controls",
          "model_name": "ProgressStyleModel",
          "model_module_version": "1.5.0",
          "state": {
            "_model_module": "@jupyter-widgets/controls",
            "_model_module_version": "1.5.0",
            "_model_name": "ProgressStyleModel",
            "_view_count": null,
            "_view_module": "@jupyter-widgets/base",
            "_view_module_version": "1.2.0",
            "_view_name": "StyleView",
            "bar_color": null,
            "description_width": ""
          }
        },
        "189b1585266d43d3baef2a4014a4a303": {
          "model_module": "@jupyter-widgets/base",
          "model_name": "LayoutModel",
          "model_module_version": "1.2.0",
          "state": {
            "_model_module": "@jupyter-widgets/base",
            "_model_module_version": "1.2.0",
            "_model_name": "LayoutModel",
            "_view_count": null,
            "_view_module": "@jupyter-widgets/base",
            "_view_module_version": "1.2.0",
            "_view_name": "LayoutView",
            "align_content": null,
            "align_items": null,
            "align_self": null,
            "border": null,
            "bottom": null,
            "display": null,
            "flex": null,
            "flex_flow": null,
            "grid_area": null,
            "grid_auto_columns": null,
            "grid_auto_flow": null,
            "grid_auto_rows": null,
            "grid_column": null,
            "grid_gap": null,
            "grid_row": null,
            "grid_template_areas": null,
            "grid_template_columns": null,
            "grid_template_rows": null,
            "height": null,
            "justify_content": null,
            "justify_items": null,
            "left": null,
            "margin": null,
            "max_height": null,
            "max_width": null,
            "min_height": null,
            "min_width": null,
            "object_fit": null,
            "object_position": null,
            "order": null,
            "overflow": null,
            "overflow_x": null,
            "overflow_y": null,
            "padding": null,
            "right": null,
            "top": null,
            "visibility": null,
            "width": null
          }
        },
        "bc232dc6305f4a58a3c88f6da94a7dec": {
          "model_module": "@jupyter-widgets/controls",
          "model_name": "DescriptionStyleModel",
          "model_module_version": "1.5.0",
          "state": {
            "_model_module": "@jupyter-widgets/controls",
            "_model_module_version": "1.5.0",
            "_model_name": "DescriptionStyleModel",
            "_view_count": null,
            "_view_module": "@jupyter-widgets/base",
            "_view_module_version": "1.2.0",
            "_view_name": "StyleView",
            "description_width": ""
          }
        },
        "8d488cb7b424404aa8670866e71b4186": {
          "model_module": "@jupyter-widgets/controls",
          "model_name": "HBoxModel",
          "model_module_version": "1.5.0",
          "state": {
            "_dom_classes": [],
            "_model_module": "@jupyter-widgets/controls",
            "_model_module_version": "1.5.0",
            "_model_name": "HBoxModel",
            "_view_count": null,
            "_view_module": "@jupyter-widgets/controls",
            "_view_module_version": "1.5.0",
            "_view_name": "HBoxView",
            "box_style": "",
            "children": [
              "IPY_MODEL_ea098708cd7e44a99cece69e0723f172",
              "IPY_MODEL_44e65264ad5247399783c73ab6173554",
              "IPY_MODEL_2238995983a343a99ef985f3f015fcbe"
            ],
            "layout": "IPY_MODEL_c4d3c19f86014a68a422aaae36cb29c1"
          }
        },
        "ea098708cd7e44a99cece69e0723f172": {
          "model_module": "@jupyter-widgets/controls",
          "model_name": "HTMLModel",
          "model_module_version": "1.5.0",
          "state": {
            "_dom_classes": [],
            "_model_module": "@jupyter-widgets/controls",
            "_model_module_version": "1.5.0",
            "_model_name": "HTMLModel",
            "_view_count": null,
            "_view_module": "@jupyter-widgets/controls",
            "_view_module_version": "1.5.0",
            "_view_name": "HTMLView",
            "description": "",
            "description_tooltip": null,
            "layout": "IPY_MODEL_eef8c4075bd34b528b5edbe2e4ca3f08",
            "placeholder": "​",
            "style": "IPY_MODEL_b0c7d99371ae44cdb80d73456b84be12",
            "value": "100%"
          }
        },
        "44e65264ad5247399783c73ab6173554": {
          "model_module": "@jupyter-widgets/controls",
          "model_name": "FloatProgressModel",
          "model_module_version": "1.5.0",
          "state": {
            "_dom_classes": [],
            "_model_module": "@jupyter-widgets/controls",
            "_model_module_version": "1.5.0",
            "_model_name": "FloatProgressModel",
            "_view_count": null,
            "_view_module": "@jupyter-widgets/controls",
            "_view_module_version": "1.5.0",
            "_view_name": "ProgressView",
            "bar_style": "success",
            "description": "",
            "description_tooltip": null,
            "layout": "IPY_MODEL_607732aebb8049dcbeb95db125f7c9f3",
            "max": 64,
            "min": 0,
            "orientation": "horizontal",
            "style": "IPY_MODEL_c29b58fa461d41de90d979ee1049f701",
            "value": 64
          }
        },
        "2238995983a343a99ef985f3f015fcbe": {
          "model_module": "@jupyter-widgets/controls",
          "model_name": "HTMLModel",
          "model_module_version": "1.5.0",
          "state": {
            "_dom_classes": [],
            "_model_module": "@jupyter-widgets/controls",
            "_model_module_version": "1.5.0",
            "_model_name": "HTMLModel",
            "_view_count": null,
            "_view_module": "@jupyter-widgets/controls",
            "_view_module_version": "1.5.0",
            "_view_name": "HTMLView",
            "description": "",
            "description_tooltip": null,
            "layout": "IPY_MODEL_a84e04c6999c48019aded916f4ee873f",
            "placeholder": "​",
            "style": "IPY_MODEL_9c4948107c5d41abaef7a3fef330ba2f",
            "value": " 64/64 [02:09&lt;00:00,  1.73s/it]"
          }
        },
        "c4d3c19f86014a68a422aaae36cb29c1": {
          "model_module": "@jupyter-widgets/base",
          "model_name": "LayoutModel",
          "model_module_version": "1.2.0",
          "state": {
            "_model_module": "@jupyter-widgets/base",
            "_model_module_version": "1.2.0",
            "_model_name": "LayoutModel",
            "_view_count": null,
            "_view_module": "@jupyter-widgets/base",
            "_view_module_version": "1.2.0",
            "_view_name": "LayoutView",
            "align_content": null,
            "align_items": null,
            "align_self": null,
            "border": null,
            "bottom": null,
            "display": null,
            "flex": null,
            "flex_flow": null,
            "grid_area": null,
            "grid_auto_columns": null,
            "grid_auto_flow": null,
            "grid_auto_rows": null,
            "grid_column": null,
            "grid_gap": null,
            "grid_row": null,
            "grid_template_areas": null,
            "grid_template_columns": null,
            "grid_template_rows": null,
            "height": null,
            "justify_content": null,
            "justify_items": null,
            "left": null,
            "margin": null,
            "max_height": null,
            "max_width": null,
            "min_height": null,
            "min_width": null,
            "object_fit": null,
            "object_position": null,
            "order": null,
            "overflow": null,
            "overflow_x": null,
            "overflow_y": null,
            "padding": null,
            "right": null,
            "top": null,
            "visibility": null,
            "width": null
          }
        },
        "eef8c4075bd34b528b5edbe2e4ca3f08": {
          "model_module": "@jupyter-widgets/base",
          "model_name": "LayoutModel",
          "model_module_version": "1.2.0",
          "state": {
            "_model_module": "@jupyter-widgets/base",
            "_model_module_version": "1.2.0",
            "_model_name": "LayoutModel",
            "_view_count": null,
            "_view_module": "@jupyter-widgets/base",
            "_view_module_version": "1.2.0",
            "_view_name": "LayoutView",
            "align_content": null,
            "align_items": null,
            "align_self": null,
            "border": null,
            "bottom": null,
            "display": null,
            "flex": null,
            "flex_flow": null,
            "grid_area": null,
            "grid_auto_columns": null,
            "grid_auto_flow": null,
            "grid_auto_rows": null,
            "grid_column": null,
            "grid_gap": null,
            "grid_row": null,
            "grid_template_areas": null,
            "grid_template_columns": null,
            "grid_template_rows": null,
            "height": null,
            "justify_content": null,
            "justify_items": null,
            "left": null,
            "margin": null,
            "max_height": null,
            "max_width": null,
            "min_height": null,
            "min_width": null,
            "object_fit": null,
            "object_position": null,
            "order": null,
            "overflow": null,
            "overflow_x": null,
            "overflow_y": null,
            "padding": null,
            "right": null,
            "top": null,
            "visibility": null,
            "width": null
          }
        },
        "b0c7d99371ae44cdb80d73456b84be12": {
          "model_module": "@jupyter-widgets/controls",
          "model_name": "DescriptionStyleModel",
          "model_module_version": "1.5.0",
          "state": {
            "_model_module": "@jupyter-widgets/controls",
            "_model_module_version": "1.5.0",
            "_model_name": "DescriptionStyleModel",
            "_view_count": null,
            "_view_module": "@jupyter-widgets/base",
            "_view_module_version": "1.2.0",
            "_view_name": "StyleView",
            "description_width": ""
          }
        },
        "607732aebb8049dcbeb95db125f7c9f3": {
          "model_module": "@jupyter-widgets/base",
          "model_name": "LayoutModel",
          "model_module_version": "1.2.0",
          "state": {
            "_model_module": "@jupyter-widgets/base",
            "_model_module_version": "1.2.0",
            "_model_name": "LayoutModel",
            "_view_count": null,
            "_view_module": "@jupyter-widgets/base",
            "_view_module_version": "1.2.0",
            "_view_name": "LayoutView",
            "align_content": null,
            "align_items": null,
            "align_self": null,
            "border": null,
            "bottom": null,
            "display": null,
            "flex": null,
            "flex_flow": null,
            "grid_area": null,
            "grid_auto_columns": null,
            "grid_auto_flow": null,
            "grid_auto_rows": null,
            "grid_column": null,
            "grid_gap": null,
            "grid_row": null,
            "grid_template_areas": null,
            "grid_template_columns": null,
            "grid_template_rows": null,
            "height": null,
            "justify_content": null,
            "justify_items": null,
            "left": null,
            "margin": null,
            "max_height": null,
            "max_width": null,
            "min_height": null,
            "min_width": null,
            "object_fit": null,
            "object_position": null,
            "order": null,
            "overflow": null,
            "overflow_x": null,
            "overflow_y": null,
            "padding": null,
            "right": null,
            "top": null,
            "visibility": null,
            "width": null
          }
        },
        "c29b58fa461d41de90d979ee1049f701": {
          "model_module": "@jupyter-widgets/controls",
          "model_name": "ProgressStyleModel",
          "model_module_version": "1.5.0",
          "state": {
            "_model_module": "@jupyter-widgets/controls",
            "_model_module_version": "1.5.0",
            "_model_name": "ProgressStyleModel",
            "_view_count": null,
            "_view_module": "@jupyter-widgets/base",
            "_view_module_version": "1.2.0",
            "_view_name": "StyleView",
            "bar_color": null,
            "description_width": ""
          }
        },
        "a84e04c6999c48019aded916f4ee873f": {
          "model_module": "@jupyter-widgets/base",
          "model_name": "LayoutModel",
          "model_module_version": "1.2.0",
          "state": {
            "_model_module": "@jupyter-widgets/base",
            "_model_module_version": "1.2.0",
            "_model_name": "LayoutModel",
            "_view_count": null,
            "_view_module": "@jupyter-widgets/base",
            "_view_module_version": "1.2.0",
            "_view_name": "LayoutView",
            "align_content": null,
            "align_items": null,
            "align_self": null,
            "border": null,
            "bottom": null,
            "display": null,
            "flex": null,
            "flex_flow": null,
            "grid_area": null,
            "grid_auto_columns": null,
            "grid_auto_flow": null,
            "grid_auto_rows": null,
            "grid_column": null,
            "grid_gap": null,
            "grid_row": null,
            "grid_template_areas": null,
            "grid_template_columns": null,
            "grid_template_rows": null,
            "height": null,
            "justify_content": null,
            "justify_items": null,
            "left": null,
            "margin": null,
            "max_height": null,
            "max_width": null,
            "min_height": null,
            "min_width": null,
            "object_fit": null,
            "object_position": null,
            "order": null,
            "overflow": null,
            "overflow_x": null,
            "overflow_y": null,
            "padding": null,
            "right": null,
            "top": null,
            "visibility": null,
            "width": null
          }
        },
        "9c4948107c5d41abaef7a3fef330ba2f": {
          "model_module": "@jupyter-widgets/controls",
          "model_name": "DescriptionStyleModel",
          "model_module_version": "1.5.0",
          "state": {
            "_model_module": "@jupyter-widgets/controls",
            "_model_module_version": "1.5.0",
            "_model_name": "DescriptionStyleModel",
            "_view_count": null,
            "_view_module": "@jupyter-widgets/base",
            "_view_module_version": "1.2.0",
            "_view_name": "StyleView",
            "description_width": ""
          }
        },
        "d3572865f79e40638b105572a77a4b2f": {
          "model_module": "@jupyter-widgets/controls",
          "model_name": "HTMLModel",
          "model_module_version": "1.5.0",
          "state": {
            "_dom_classes": [],
            "_model_module": "@jupyter-widgets/controls",
            "_model_module_version": "1.5.0",
            "_model_name": "HTMLModel",
            "_view_count": null,
            "_view_module": "@jupyter-widgets/controls",
            "_view_module_version": "1.5.0",
            "_view_name": "HTMLView",
            "description": "",
            "description_tooltip": null,
            "layout": "IPY_MODEL_426090563f1440c0916e58d7c0a6eae5",
            "placeholder": "​",
            "style": "IPY_MODEL_30d8b874c1c344c995a1f4069757cefc",
            "value": "<img src=\"data:image/gif;base64,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\" />"
          }
        },
        "426090563f1440c0916e58d7c0a6eae5": {
          "model_module": "@jupyter-widgets/base",
          "model_name": "LayoutModel",
          "model_module_version": "1.2.0",
          "state": {
            "_model_module": "@jupyter-widgets/base",
            "_model_module_version": "1.2.0",
            "_model_name": "LayoutModel",
            "_view_count": null,
            "_view_module": "@jupyter-widgets/base",
            "_view_module_version": "1.2.0",
            "_view_name": "LayoutView",
            "align_content": null,
            "align_items": null,
            "align_self": null,
            "border": null,
            "bottom": null,
            "display": null,
            "flex": null,
            "flex_flow": null,
            "grid_area": null,
            "grid_auto_columns": null,
            "grid_auto_flow": null,
            "grid_auto_rows": null,
            "grid_column": null,
            "grid_gap": null,
            "grid_row": null,
            "grid_template_areas": null,
            "grid_template_columns": null,
            "grid_template_rows": null,
            "height": null,
            "justify_content": null,
            "justify_items": null,
            "left": null,
            "margin": null,
            "max_height": null,
            "max_width": null,
            "min_height": null,
            "min_width": null,
            "object_fit": null,
            "object_position": null,
            "order": null,
            "overflow": null,
            "overflow_x": null,
            "overflow_y": null,
            "padding": null,
            "right": null,
            "top": null,
            "visibility": null,
            "width": null
          }
        },
        "30d8b874c1c344c995a1f4069757cefc": {
          "model_module": "@jupyter-widgets/controls",
          "model_name": "DescriptionStyleModel",
          "model_module_version": "1.5.0",
          "state": {
            "_model_module": "@jupyter-widgets/controls",
            "_model_module_version": "1.5.0",
            "_model_name": "DescriptionStyleModel",
            "_view_count": null,
            "_view_module": "@jupyter-widgets/base",
            "_view_module_version": "1.2.0",
            "_view_name": "StyleView",
            "description_width": ""
          }
        },
        "7c2a86f56ea34d9dad00177b08d742f8": {
          "model_module": "@jupyter-widgets/controls",
          "model_name": "HTMLModel",
          "model_module_version": "1.5.0",
          "state": {
            "_dom_classes": [],
            "_model_module": "@jupyter-widgets/controls",
            "_model_module_version": "1.5.0",
            "_model_name": "HTMLModel",
            "_view_count": null,
            "_view_module": "@jupyter-widgets/controls",
            "_view_module_version": "1.5.0",
            "_view_name": "HTMLView",
            "description": "",
            "description_tooltip": null,
            "layout": "IPY_MODEL_cdfd27027f124e9e9e7d947da7f8430a",
            "placeholder": "​",
            "style": "IPY_MODEL_0e6ad5d530b1469aaf4c92b76f1dbb4c",
            "value": "<img src=\"data:image/gif;base64,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\" />"
          }
        },
        "cdfd27027f124e9e9e7d947da7f8430a": {
          "model_module": "@jupyter-widgets/base",
          "model_name": "LayoutModel",
          "model_module_version": "1.2.0",
          "state": {
            "_model_module": "@jupyter-widgets/base",
            "_model_module_version": "1.2.0",
            "_model_name": "LayoutModel",
            "_view_count": null,
            "_view_module": "@jupyter-widgets/base",
            "_view_module_version": "1.2.0",
            "_view_name": "LayoutView",
            "align_content": null,
            "align_items": null,
            "align_self": null,
            "border": null,
            "bottom": null,
            "display": null,
            "flex": null,
            "flex_flow": null,
            "grid_area": null,
            "grid_auto_columns": null,
            "grid_auto_flow": null,
            "grid_auto_rows": null,
            "grid_column": null,
            "grid_gap": null,
            "grid_row": null,
            "grid_template_areas": null,
            "grid_template_columns": null,
            "grid_template_rows": null,
            "height": null,
            "justify_content": null,
            "justify_items": null,
            "left": null,
            "margin": null,
            "max_height": null,
            "max_width": null,
            "min_height": null,
            "min_width": null,
            "object_fit": null,
            "object_position": null,
            "order": null,
            "overflow": null,
            "overflow_x": null,
            "overflow_y": null,
            "padding": null,
            "right": null,
            "top": null,
            "visibility": null,
            "width": null
          }
        },
        "0e6ad5d530b1469aaf4c92b76f1dbb4c": {
          "model_module": "@jupyter-widgets/controls",
          "model_name": "DescriptionStyleModel",
          "model_module_version": "1.5.0",
          "state": {
            "_model_module": "@jupyter-widgets/controls",
            "_model_module_version": "1.5.0",
            "_model_name": "DescriptionStyleModel",
            "_view_count": null,
            "_view_module": "@jupyter-widgets/base",
            "_view_module_version": "1.2.0",
            "_view_name": "StyleView",
            "description_width": ""
          }
        },
        "ebb33b1c2695449eaed9f6cad50cc127": {
          "model_module": "@jupyter-widgets/controls",
          "model_name": "HTMLModel",
          "model_module_version": "1.5.0",
          "state": {
            "_dom_classes": [],
            "_model_module": "@jupyter-widgets/controls",
            "_model_module_version": "1.5.0",
            "_model_name": "HTMLModel",
            "_view_count": null,
            "_view_module": "@jupyter-widgets/controls",
            "_view_module_version": "1.5.0",
            "_view_name": "HTMLView",
            "description": "",
            "description_tooltip": null,
            "layout": "IPY_MODEL_d83fe45fdfea4a33bd12618c61e7967b",
            "placeholder": "​",
            "style": "IPY_MODEL_6c8b4545b6c64fff891915d55c08ace4",
            "value": "<img src=\"data:image/gif;base64,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\" />"
          }
        },
        "d83fe45fdfea4a33bd12618c61e7967b": {
          "model_module": "@jupyter-widgets/base",
          "model_name": "LayoutModel",
          "model_module_version": "1.2.0",
          "state": {
            "_model_module": "@jupyter-widgets/base",
            "_model_module_version": "1.2.0",
            "_model_name": "LayoutModel",
            "_view_count": null,
            "_view_module": "@jupyter-widgets/base",
            "_view_module_version": "1.2.0",
            "_view_name": "LayoutView",
            "align_content": null,
            "align_items": null,
            "align_self": null,
            "border": null,
            "bottom": null,
            "display": null,
            "flex": null,
            "flex_flow": null,
            "grid_area": null,
            "grid_auto_columns": null,
            "grid_auto_flow": null,
            "grid_auto_rows": null,
            "grid_column": null,
            "grid_gap": null,
            "grid_row": null,
            "grid_template_areas": null,
            "grid_template_columns": null,
            "grid_template_rows": null,
            "height": null,
            "justify_content": null,
            "justify_items": null,
            "left": null,
            "margin": null,
            "max_height": null,
            "max_width": null,
            "min_height": null,
            "min_width": null,
            "object_fit": null,
            "object_position": null,
            "order": null,
            "overflow": null,
            "overflow_x": null,
            "overflow_y": null,
            "padding": null,
            "right": null,
            "top": null,
            "visibility": null,
            "width": null
          }
        },
        "6c8b4545b6c64fff891915d55c08ace4": {
          "model_module": "@jupyter-widgets/controls",
          "model_name": "DescriptionStyleModel",
          "model_module_version": "1.5.0",
          "state": {
            "_model_module": "@jupyter-widgets/controls",
            "_model_module_version": "1.5.0",
            "_model_name": "DescriptionStyleModel",
            "_view_count": null,
            "_view_module": "@jupyter-widgets/base",
            "_view_module_version": "1.2.0",
            "_view_name": "StyleView",
            "description_width": ""
          }
        },
        "36cf03db7dd04c12a05088c42c876169": {
          "model_module": "@jupyter-widgets/controls",
          "model_name": "HTMLModel",
          "model_module_version": "1.5.0",
          "state": {
            "_dom_classes": [],
            "_model_module": "@jupyter-widgets/controls",
            "_model_module_version": "1.5.0",
            "_model_name": "HTMLModel",
            "_view_count": null,
            "_view_module": "@jupyter-widgets/controls",
            "_view_module_version": "1.5.0",
            "_view_name": "HTMLView",
            "description": "",
            "description_tooltip": null,
            "layout": "IPY_MODEL_4da7660e7fd748bbb448747a3b26cfd2",
            "placeholder": "​",
            "style": "IPY_MODEL_0d1dfab766e74a51ae510fb3410fe00c",
            "value": "<img src=\"data:image/gif;base64,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\" />"
          }
        },
        "4da7660e7fd748bbb448747a3b26cfd2": {
          "model_module": "@jupyter-widgets/base",
          "model_name": "LayoutModel",
          "model_module_version": "1.2.0",
          "state": {
            "_model_module": "@jupyter-widgets/base",
            "_model_module_version": "1.2.0",
            "_model_name": "LayoutModel",
            "_view_count": null,
            "_view_module": "@jupyter-widgets/base",
            "_view_module_version": "1.2.0",
            "_view_name": "LayoutView",
            "align_content": null,
            "align_items": null,
            "align_self": null,
            "border": null,
            "bottom": null,
            "display": null,
            "flex": null,
            "flex_flow": null,
            "grid_area": null,
            "grid_auto_columns": null,
            "grid_auto_flow": null,
            "grid_auto_rows": null,
            "grid_column": null,
            "grid_gap": null,
            "grid_row": null,
            "grid_template_areas": null,
            "grid_template_columns": null,
            "grid_template_rows": null,
            "height": null,
            "justify_content": null,
            "justify_items": null,
            "left": null,
            "margin": null,
            "max_height": null,
            "max_width": null,
            "min_height": null,
            "min_width": null,
            "object_fit": null,
            "object_position": null,
            "order": null,
            "overflow": null,
            "overflow_x": null,
            "overflow_y": null,
            "padding": null,
            "right": null,
            "top": null,
            "visibility": null,
            "width": null
          }
        },
        "0d1dfab766e74a51ae510fb3410fe00c": {
          "model_module": "@jupyter-widgets/controls",
          "model_name": "DescriptionStyleModel",
          "model_module_version": "1.5.0",
          "state": {
            "_model_module": "@jupyter-widgets/controls",
            "_model_module_version": "1.5.0",
            "_model_name": "DescriptionStyleModel",
            "_view_count": null,
            "_view_module": "@jupyter-widgets/base",
            "_view_module_version": "1.2.0",
            "_view_name": "StyleView",
            "description_width": ""
          }
        }
      }
    }
  },
  "cells": [
    {
      "cell_type": "markdown",
      "metadata": {
        "id": "view-in-github"
      },
      "source": [
        "<a href=\"https://colab.research.google.com/github/BrutFab/shap-e_colab/blob/main/shape_e_image_to_3d_colab.ipynb\" target=\"_parent\"><img src=\"https://colab.research.google.com/assets/colab-badge.svg\" alt=\"Open In Colab\"/></a>"
      ]
    },
    {
      "cell_type": "code",
      "execution_count": 1,
      "metadata": {
        "id": "fH7_SLpKMFhv",
        "colab": {
          "base_uri": "https://localhost:8080/"
        },
        "outputId": "63ea837a-d2d5-4e84-d409-cc6f921679a1"
      },
      "outputs": [
        {
          "output_type": "stream",
          "name": "stdout",
          "text": [
            "Cloning into 'shap-e'...\n",
            "remote: Enumerating objects: 336, done.\u001b[K\n",
            "remote: Counting objects: 100% (55/55), done.\u001b[K\n",
            "remote: Compressing objects: 100% (42/42), done.\u001b[K\n",
            "remote: Total 336 (delta 35), reused 13 (delta 13), pack-reused 281 (from 2)\u001b[K\n",
            "Receiving objects: 100% (336/336), 11.72 MiB | 13.49 MiB/s, done.\n",
            "Resolving deltas: 100% (43/43), done.\n"
          ]
        }
      ],
      "source": [
        "!git clone https://github.com/openai/shap-e"
      ]
    },
    {
      "cell_type": "code",
      "source": [
        "%cd shap-e"
      ],
      "metadata": {
        "id": "_D27jFirMcMP",
        "colab": {
          "base_uri": "https://localhost:8080/"
        },
        "outputId": "4bf1140e-83d9-466b-e5a6-75a3d3353939"
      },
      "execution_count": 2,
      "outputs": [
        {
          "output_type": "stream",
          "name": "stdout",
          "text": [
            "/content/shap-e\n"
          ]
        }
      ]
    },
    {
      "cell_type": "code",
      "source": [
        "pip install -e .\n"
      ],
      "metadata": {
        "id": "S65QUzzvAjr8",
        "colab": {
          "base_uri": "https://localhost:8080/"
        },
        "outputId": "363658ef-882c-49d8-c288-1e579ac99361"
      },
      "execution_count": 4,
      "outputs": [
        {
          "output_type": "stream",
          "name": "stdout",
          "text": [
            "Obtaining file:///content/shap-e\n",
            "  Preparing metadata (setup.py) ... \u001b[?25l\u001b[?25hdone\n",
            "Collecting clip@ git+https://github.com/openai/CLIP.git (from shap-e==0.0.0)\n",
            "  Cloning https://github.com/openai/CLIP.git to /tmp/pip-install-2kea5phr/clip_8724400f70684ed4a11042f29897c6da\n",
            "  Running command git clone --filter=blob:none --quiet https://github.com/openai/CLIP.git /tmp/pip-install-2kea5phr/clip_8724400f70684ed4a11042f29897c6da\n",
            "  Resolved https://github.com/openai/CLIP.git to commit dcba3cb2e2827b402d2701e7e1c7d9fed8a20ef1\n",
            "  Preparing metadata (setup.py) ... \u001b[?25l\u001b[?25hdone\n",
            "Requirement already satisfied: filelock in /usr/local/lib/python3.11/dist-packages (from shap-e==0.0.0) (3.18.0)\n",
            "Requirement already satisfied: Pillow in /usr/local/lib/python3.11/dist-packages (from shap-e==0.0.0) (11.2.1)\n",
            "Requirement already satisfied: torch in /usr/local/lib/python3.11/dist-packages (from shap-e==0.0.0) (2.6.0+cu124)\n",
            "Collecting fire (from shap-e==0.0.0)\n",
            "  Downloading fire-0.7.0.tar.gz (87 kB)\n",
            "\u001b[2K     \u001b[90m━━━━━━━━━━━━━━━━━━━━━━━━━━━━━━━━━━━━━━━━\u001b[0m \u001b[32m87.2/87.2 kB\u001b[0m \u001b[31m3.5 MB/s\u001b[0m eta \u001b[36m0:00:00\u001b[0m\n",
            "\u001b[?25h  Preparing metadata (setup.py) ... \u001b[?25l\u001b[?25hdone\n",
            "Requirement already satisfied: humanize in /usr/local/lib/python3.11/dist-packages (from shap-e==0.0.0) (4.12.2)\n",
            "Requirement already satisfied: requests in /usr/local/lib/python3.11/dist-packages (from shap-e==0.0.0) (2.32.3)\n",
            "Requirement already satisfied: tqdm in /usr/local/lib/python3.11/dist-packages (from shap-e==0.0.0) (4.67.1)\n",
            "Requirement already satisfied: matplotlib in /usr/local/lib/python3.11/dist-packages (from shap-e==0.0.0) (3.10.0)\n",
            "Requirement already satisfied: scikit-image in /usr/local/lib/python3.11/dist-packages (from shap-e==0.0.0) (0.25.2)\n",
            "Requirement already satisfied: scipy in /usr/local/lib/python3.11/dist-packages (from shap-e==0.0.0) (1.15.2)\n",
            "Requirement already satisfied: numpy in /usr/local/lib/python3.11/dist-packages (from shap-e==0.0.0) (2.0.2)\n",
            "Collecting blobfile (from shap-e==0.0.0)\n",
            "  Downloading blobfile-3.0.0-py3-none-any.whl.metadata (15 kB)\n",
            "Collecting pycryptodomex>=3.8 (from blobfile->shap-e==0.0.0)\n",
            "  Downloading pycryptodomex-3.22.0-cp37-abi3-manylinux_2_17_x86_64.manylinux2014_x86_64.whl.metadata (3.4 kB)\n",
            "Requirement already satisfied: urllib3<3,>=1.25.3 in /usr/local/lib/python3.11/dist-packages (from blobfile->shap-e==0.0.0) (2.4.0)\n",
            "Requirement already satisfied: lxml>=4.9 in /usr/local/lib/python3.11/dist-packages (from blobfile->shap-e==0.0.0) (5.4.0)\n",
            "Collecting ftfy (from clip@ git+https://github.com/openai/CLIP.git->shap-e==0.0.0)\n",
            "  Downloading ftfy-6.3.1-py3-none-any.whl.metadata (7.3 kB)\n",
            "Requirement already satisfied: packaging in /usr/local/lib/python3.11/dist-packages (from clip@ git+https://github.com/openai/CLIP.git->shap-e==0.0.0) (24.2)\n",
            "Requirement already satisfied: regex in /usr/local/lib/python3.11/dist-packages (from clip@ git+https://github.com/openai/CLIP.git->shap-e==0.0.0) (2024.11.6)\n",
            "Requirement already satisfied: torchvision in /usr/local/lib/python3.11/dist-packages (from clip@ git+https://github.com/openai/CLIP.git->shap-e==0.0.0) (0.21.0+cu124)\n",
            "Requirement already satisfied: termcolor in /usr/local/lib/python3.11/dist-packages (from fire->shap-e==0.0.0) (3.0.1)\n",
            "Requirement already satisfied: contourpy>=1.0.1 in /usr/local/lib/python3.11/dist-packages (from matplotlib->shap-e==0.0.0) (1.3.2)\n",
            "Requirement already satisfied: cycler>=0.10 in /usr/local/lib/python3.11/dist-packages (from matplotlib->shap-e==0.0.0) (0.12.1)\n",
            "Requirement already satisfied: fonttools>=4.22.0 in /usr/local/lib/python3.11/dist-packages (from matplotlib->shap-e==0.0.0) (4.57.0)\n",
            "Requirement already satisfied: kiwisolver>=1.3.1 in /usr/local/lib/python3.11/dist-packages (from matplotlib->shap-e==0.0.0) (1.4.8)\n",
            "Requirement already satisfied: pyparsing>=2.3.1 in /usr/local/lib/python3.11/dist-packages (from matplotlib->shap-e==0.0.0) (3.2.3)\n",
            "Requirement already satisfied: python-dateutil>=2.7 in /usr/local/lib/python3.11/dist-packages (from matplotlib->shap-e==0.0.0) (2.9.0.post0)\n",
            "Requirement already satisfied: charset-normalizer<4,>=2 in /usr/local/lib/python3.11/dist-packages (from requests->shap-e==0.0.0) (3.4.1)\n",
            "Requirement already satisfied: idna<4,>=2.5 in /usr/local/lib/python3.11/dist-packages (from requests->shap-e==0.0.0) (3.10)\n",
            "Requirement already satisfied: certifi>=2017.4.17 in /usr/local/lib/python3.11/dist-packages (from requests->shap-e==0.0.0) (2025.4.26)\n",
            "Requirement already satisfied: networkx>=3.0 in /usr/local/lib/python3.11/dist-packages (from scikit-image->shap-e==0.0.0) (3.4.2)\n",
            "Requirement already satisfied: imageio!=2.35.0,>=2.33 in /usr/local/lib/python3.11/dist-packages (from scikit-image->shap-e==0.0.0) (2.37.0)\n",
            "Requirement already satisfied: tifffile>=2022.8.12 in /usr/local/lib/python3.11/dist-packages (from scikit-image->shap-e==0.0.0) (2025.3.30)\n",
            "Requirement already satisfied: lazy-loader>=0.4 in /usr/local/lib/python3.11/dist-packages (from scikit-image->shap-e==0.0.0) (0.4)\n",
            "Requirement already satisfied: typing-extensions>=4.10.0 in /usr/local/lib/python3.11/dist-packages (from torch->shap-e==0.0.0) (4.13.2)\n",
            "Requirement already satisfied: jinja2 in /usr/local/lib/python3.11/dist-packages (from torch->shap-e==0.0.0) (3.1.6)\n",
            "Requirement already satisfied: fsspec in /usr/local/lib/python3.11/dist-packages (from torch->shap-e==0.0.0) (2025.3.2)\n",
            "Collecting nvidia-cuda-nvrtc-cu12==12.4.127 (from torch->shap-e==0.0.0)\n",
            "  Downloading nvidia_cuda_nvrtc_cu12-12.4.127-py3-none-manylinux2014_x86_64.whl.metadata (1.5 kB)\n",
            "Collecting nvidia-cuda-runtime-cu12==12.4.127 (from torch->shap-e==0.0.0)\n",
            "  Downloading nvidia_cuda_runtime_cu12-12.4.127-py3-none-manylinux2014_x86_64.whl.metadata (1.5 kB)\n",
            "Collecting nvidia-cuda-cupti-cu12==12.4.127 (from torch->shap-e==0.0.0)\n",
            "  Downloading nvidia_cuda_cupti_cu12-12.4.127-py3-none-manylinux2014_x86_64.whl.metadata (1.6 kB)\n",
            "Collecting nvidia-cudnn-cu12==9.1.0.70 (from torch->shap-e==0.0.0)\n",
            "  Downloading nvidia_cudnn_cu12-9.1.0.70-py3-none-manylinux2014_x86_64.whl.metadata (1.6 kB)\n",
            "Collecting nvidia-cublas-cu12==12.4.5.8 (from torch->shap-e==0.0.0)\n",
            "  Downloading nvidia_cublas_cu12-12.4.5.8-py3-none-manylinux2014_x86_64.whl.metadata (1.5 kB)\n",
            "Collecting nvidia-cufft-cu12==11.2.1.3 (from torch->shap-e==0.0.0)\n",
            "  Downloading nvidia_cufft_cu12-11.2.1.3-py3-none-manylinux2014_x86_64.whl.metadata (1.5 kB)\n",
            "Collecting nvidia-curand-cu12==10.3.5.147 (from torch->shap-e==0.0.0)\n",
            "  Downloading nvidia_curand_cu12-10.3.5.147-py3-none-manylinux2014_x86_64.whl.metadata (1.5 kB)\n",
            "Collecting nvidia-cusolver-cu12==11.6.1.9 (from torch->shap-e==0.0.0)\n",
            "  Downloading nvidia_cusolver_cu12-11.6.1.9-py3-none-manylinux2014_x86_64.whl.metadata (1.6 kB)\n",
            "Collecting nvidia-cusparse-cu12==12.3.1.170 (from torch->shap-e==0.0.0)\n",
            "  Downloading nvidia_cusparse_cu12-12.3.1.170-py3-none-manylinux2014_x86_64.whl.metadata (1.6 kB)\n",
            "Requirement already satisfied: nvidia-cusparselt-cu12==0.6.2 in /usr/local/lib/python3.11/dist-packages (from torch->shap-e==0.0.0) (0.6.2)\n",
            "Requirement already satisfied: nvidia-nccl-cu12==2.21.5 in /usr/local/lib/python3.11/dist-packages (from torch->shap-e==0.0.0) (2.21.5)\n",
            "Requirement already satisfied: nvidia-nvtx-cu12==12.4.127 in /usr/local/lib/python3.11/dist-packages (from torch->shap-e==0.0.0) (12.4.127)\n",
            "Collecting nvidia-nvjitlink-cu12==12.4.127 (from torch->shap-e==0.0.0)\n",
            "  Downloading nvidia_nvjitlink_cu12-12.4.127-py3-none-manylinux2014_x86_64.whl.metadata (1.5 kB)\n",
            "Requirement already satisfied: triton==3.2.0 in /usr/local/lib/python3.11/dist-packages (from torch->shap-e==0.0.0) (3.2.0)\n",
            "Requirement already satisfied: sympy==1.13.1 in /usr/local/lib/python3.11/dist-packages (from torch->shap-e==0.0.0) (1.13.1)\n",
            "Requirement already satisfied: mpmath<1.4,>=1.1.0 in /usr/local/lib/python3.11/dist-packages (from sympy==1.13.1->torch->shap-e==0.0.0) (1.3.0)\n",
            "Requirement already satisfied: six>=1.5 in /usr/local/lib/python3.11/dist-packages (from python-dateutil>=2.7->matplotlib->shap-e==0.0.0) (1.17.0)\n",
            "Requirement already satisfied: wcwidth in /usr/local/lib/python3.11/dist-packages (from ftfy->clip@ git+https://github.com/openai/CLIP.git->shap-e==0.0.0) (0.2.13)\n",
            "Requirement already satisfied: MarkupSafe>=2.0 in /usr/local/lib/python3.11/dist-packages (from jinja2->torch->shap-e==0.0.0) (3.0.2)\n",
            "Downloading blobfile-3.0.0-py3-none-any.whl (75 kB)\n",
            "\u001b[2K   \u001b[90m━━━━━━━━━━━━━━━━━━━━━━━━━━━━━━━━━━━━━━━━\u001b[0m \u001b[32m75.4/75.4 kB\u001b[0m \u001b[31m5.7 MB/s\u001b[0m eta \u001b[36m0:00:00\u001b[0m\n",
            "\u001b[?25hDownloading nvidia_cublas_cu12-12.4.5.8-py3-none-manylinux2014_x86_64.whl (363.4 MB)\n",
            "\u001b[2K   \u001b[90m━━━━━━━━━━━━━━━━━━━━━━━━━━━━━━━━━━━━━━━━\u001b[0m \u001b[32m363.4/363.4 MB\u001b[0m \u001b[31m3.9 MB/s\u001b[0m eta \u001b[36m0:00:00\u001b[0m\n",
            "\u001b[?25hDownloading nvidia_cuda_cupti_cu12-12.4.127-py3-none-manylinux2014_x86_64.whl (13.8 MB)\n",
            "\u001b[2K   \u001b[90m━━━━━━━━━━━━━━━━━━━━━━━━━━━━━━━━━━━━━━━━\u001b[0m \u001b[32m13.8/13.8 MB\u001b[0m \u001b[31m129.8 MB/s\u001b[0m eta \u001b[36m0:00:00\u001b[0m\n",
            "\u001b[?25hDownloading nvidia_cuda_nvrtc_cu12-12.4.127-py3-none-manylinux2014_x86_64.whl (24.6 MB)\n",
            "\u001b[2K   \u001b[90m━━━━━━━━━━━━━━━━━━━━━━━━━━━━━━━━━━━━━━━━\u001b[0m \u001b[32m24.6/24.6 MB\u001b[0m \u001b[31m82.9 MB/s\u001b[0m eta \u001b[36m0:00:00\u001b[0m\n",
            "\u001b[?25hDownloading nvidia_cuda_runtime_cu12-12.4.127-py3-none-manylinux2014_x86_64.whl (883 kB)\n",
            "\u001b[2K   \u001b[90m━━━━━━━━━━━━━━━━━━━━━━━━━━━━━━━━━━━━━━━━\u001b[0m \u001b[32m883.7/883.7 kB\u001b[0m \u001b[31m67.8 MB/s\u001b[0m eta \u001b[36m0:00:00\u001b[0m\n",
            "\u001b[?25hDownloading nvidia_cudnn_cu12-9.1.0.70-py3-none-manylinux2014_x86_64.whl (664.8 MB)\n",
            "\u001b[2K   \u001b[90m━━━━━━━━━━━━━━━━━━━━━━━━━━━━━━━━━━━━━━━━\u001b[0m \u001b[32m664.8/664.8 MB\u001b[0m \u001b[31m2.2 MB/s\u001b[0m eta \u001b[36m0:00:00\u001b[0m\n",
            "\u001b[?25hDownloading nvidia_cufft_cu12-11.2.1.3-py3-none-manylinux2014_x86_64.whl (211.5 MB)\n",
            "\u001b[2K   \u001b[90m━━━━━━━━━━━━━━━━━━━━━━━━━━━━━━━━━━━━━━━━\u001b[0m \u001b[32m211.5/211.5 MB\u001b[0m \u001b[31m5.4 MB/s\u001b[0m eta \u001b[36m0:00:00\u001b[0m\n",
            "\u001b[?25hDownloading nvidia_curand_cu12-10.3.5.147-py3-none-manylinux2014_x86_64.whl (56.3 MB)\n",
            "\u001b[2K   \u001b[90m━━━━━━━━━━━━━━━━━━━━━━━━━━━━━━━━━━━━━━━━\u001b[0m \u001b[32m56.3/56.3 MB\u001b[0m \u001b[31m13.2 MB/s\u001b[0m eta \u001b[36m0:00:00\u001b[0m\n",
            "\u001b[?25hDownloading nvidia_cusolver_cu12-11.6.1.9-py3-none-manylinux2014_x86_64.whl (127.9 MB)\n",
            "\u001b[2K   \u001b[90m━━━━━━━━━━━━━━━━━━━━━━━━━━━━━━━━━━━━━━━━\u001b[0m \u001b[32m127.9/127.9 MB\u001b[0m \u001b[31m7.1 MB/s\u001b[0m eta \u001b[36m0:00:00\u001b[0m\n",
            "\u001b[?25hDownloading nvidia_cusparse_cu12-12.3.1.170-py3-none-manylinux2014_x86_64.whl (207.5 MB)\n",
            "\u001b[2K   \u001b[90m━━━━━━━━━━━━━━━━━━━━━━━━━━━━━━━━━━━━━━━━\u001b[0m \u001b[32m207.5/207.5 MB\u001b[0m \u001b[31m5.5 MB/s\u001b[0m eta \u001b[36m0:00:00\u001b[0m\n",
            "\u001b[?25hDownloading nvidia_nvjitlink_cu12-12.4.127-py3-none-manylinux2014_x86_64.whl (21.1 MB)\n",
            "\u001b[2K   \u001b[90m━━━━━━━━━━━━━━━━━━━━━━━━━━━━━━━━━━━━━━━━\u001b[0m \u001b[32m21.1/21.1 MB\u001b[0m \u001b[31m109.9 MB/s\u001b[0m eta \u001b[36m0:00:00\u001b[0m\n",
            "\u001b[?25hDownloading pycryptodomex-3.22.0-cp37-abi3-manylinux_2_17_x86_64.manylinux2014_x86_64.whl (2.3 MB)\n",
            "\u001b[2K   \u001b[90m━━━━━━━━━━━━━━━━━━━━━━━━━━━━━━━━━━━━━━━━\u001b[0m \u001b[32m2.3/2.3 MB\u001b[0m \u001b[31m92.9 MB/s\u001b[0m eta \u001b[36m0:00:00\u001b[0m\n",
            "\u001b[?25hDownloading ftfy-6.3.1-py3-none-any.whl (44 kB)\n",
            "\u001b[2K   \u001b[90m━━━━━━━━━━━━━━━━━━━━━━━━━━━━━━━━━━━━━━━━\u001b[0m \u001b[32m44.8/44.8 kB\u001b[0m \u001b[31m4.8 MB/s\u001b[0m eta \u001b[36m0:00:00\u001b[0m\n",
            "\u001b[?25hBuilding wheels for collected packages: clip, fire\n",
            "  Building wheel for clip (setup.py) ... \u001b[?25l\u001b[?25hdone\n",
            "  Created wheel for clip: filename=clip-1.0-py3-none-any.whl size=1369490 sha256=f8b610a77170593ef3f1802ab072d1ddaa6ac8166cc3305d5b0b019d8ee70fd8\n",
            "  Stored in directory: /tmp/pip-ephem-wheel-cache-9a43k4qt/wheels/3f/7c/a4/9b490845988bf7a4db33674d52f709f088f64392063872eb9a\n",
            "  Building wheel for fire (setup.py) ... \u001b[?25l\u001b[?25hdone\n",
            "  Created wheel for fire: filename=fire-0.7.0-py3-none-any.whl size=114249 sha256=a5bb7e31b06abc599110d93cda1f984cd1e7ddbec3e4e540301b39cdafbdd76a\n",
            "  Stored in directory: /root/.cache/pip/wheels/46/54/24/1624fd5b8674eb1188623f7e8e17cdf7c0f6c24b609dfb8a89\n",
            "Successfully built clip fire\n",
            "Installing collected packages: pycryptodomex, nvidia-nvjitlink-cu12, nvidia-curand-cu12, nvidia-cufft-cu12, nvidia-cuda-runtime-cu12, nvidia-cuda-nvrtc-cu12, nvidia-cuda-cupti-cu12, nvidia-cublas-cu12, ftfy, fire, nvidia-cusparse-cu12, nvidia-cudnn-cu12, blobfile, nvidia-cusolver-cu12, clip, shap-e\n",
            "  Attempting uninstall: nvidia-nvjitlink-cu12\n",
            "    Found existing installation: nvidia-nvjitlink-cu12 12.5.82\n",
            "    Uninstalling nvidia-nvjitlink-cu12-12.5.82:\n",
            "      Successfully uninstalled nvidia-nvjitlink-cu12-12.5.82\n",
            "  Attempting uninstall: nvidia-curand-cu12\n",
            "    Found existing installation: nvidia-curand-cu12 10.3.6.82\n",
            "    Uninstalling nvidia-curand-cu12-10.3.6.82:\n",
            "      Successfully uninstalled nvidia-curand-cu12-10.3.6.82\n",
            "  Attempting uninstall: nvidia-cufft-cu12\n",
            "    Found existing installation: nvidia-cufft-cu12 11.2.3.61\n",
            "    Uninstalling nvidia-cufft-cu12-11.2.3.61:\n",
            "      Successfully uninstalled nvidia-cufft-cu12-11.2.3.61\n",
            "  Attempting uninstall: nvidia-cuda-runtime-cu12\n",
            "    Found existing installation: nvidia-cuda-runtime-cu12 12.5.82\n",
            "    Uninstalling nvidia-cuda-runtime-cu12-12.5.82:\n",
            "      Successfully uninstalled nvidia-cuda-runtime-cu12-12.5.82\n",
            "  Attempting uninstall: nvidia-cuda-nvrtc-cu12\n",
            "    Found existing installation: nvidia-cuda-nvrtc-cu12 12.5.82\n",
            "    Uninstalling nvidia-cuda-nvrtc-cu12-12.5.82:\n",
            "      Successfully uninstalled nvidia-cuda-nvrtc-cu12-12.5.82\n",
            "  Attempting uninstall: nvidia-cuda-cupti-cu12\n",
            "    Found existing installation: nvidia-cuda-cupti-cu12 12.5.82\n",
            "    Uninstalling nvidia-cuda-cupti-cu12-12.5.82:\n",
            "      Successfully uninstalled nvidia-cuda-cupti-cu12-12.5.82\n",
            "  Attempting uninstall: nvidia-cublas-cu12\n",
            "    Found existing installation: nvidia-cublas-cu12 12.5.3.2\n",
            "    Uninstalling nvidia-cublas-cu12-12.5.3.2:\n",
            "      Successfully uninstalled nvidia-cublas-cu12-12.5.3.2\n",
            "  Attempting uninstall: nvidia-cusparse-cu12\n",
            "    Found existing installation: nvidia-cusparse-cu12 12.5.1.3\n",
            "    Uninstalling nvidia-cusparse-cu12-12.5.1.3:\n",
            "      Successfully uninstalled nvidia-cusparse-cu12-12.5.1.3\n",
            "  Attempting uninstall: nvidia-cudnn-cu12\n",
            "    Found existing installation: nvidia-cudnn-cu12 9.3.0.75\n",
            "    Uninstalling nvidia-cudnn-cu12-9.3.0.75:\n",
            "      Successfully uninstalled nvidia-cudnn-cu12-9.3.0.75\n",
            "  Attempting uninstall: nvidia-cusolver-cu12\n",
            "    Found existing installation: nvidia-cusolver-cu12 11.6.3.83\n",
            "    Uninstalling nvidia-cusolver-cu12-11.6.3.83:\n",
            "      Successfully uninstalled nvidia-cusolver-cu12-11.6.3.83\n",
            "  Running setup.py develop for shap-e\n",
            "Successfully installed blobfile-3.0.0 clip-1.0 fire-0.7.0 ftfy-6.3.1 nvidia-cublas-cu12-12.4.5.8 nvidia-cuda-cupti-cu12-12.4.127 nvidia-cuda-nvrtc-cu12-12.4.127 nvidia-cuda-runtime-cu12-12.4.127 nvidia-cudnn-cu12-9.1.0.70 nvidia-cufft-cu12-11.2.1.3 nvidia-curand-cu12-10.3.5.147 nvidia-cusolver-cu12-11.6.1.9 nvidia-cusparse-cu12-12.3.1.170 nvidia-nvjitlink-cu12-12.4.127 pycryptodomex-3.22.0 shap-e-0.0.0\n"
          ]
        }
      ]
    },
    {
      "cell_type": "code",
      "source": [
        "import torch\n",
        "!pip install -q diffusers transformers accelerate torch trimesh pillow flask flask-ngrok\n",
        "!pip install -q import-ipynb\n",
        "from shap_e.diffusion.sample import sample_latents\n",
        "from shap_e.diffusion.gaussian_diffusion import diffusion_from_config\n",
        "from shap_e.models.download import load_model, load_config\n",
        "from shap_e.util.notebooks import create_pan_cameras, decode_latent_images, gif_widget\n",
        "from shap_e.util.image_util import load_image"
      ],
      "metadata": {
        "id": "HR9fg2tOAw9M",
        "colab": {
          "base_uri": "https://localhost:8080/"
        },
        "outputId": "4051a1d3-7c37-4835-9020-077f1f9e77c6"
      },
      "execution_count": 5,
      "outputs": [
        {
          "output_type": "stream",
          "name": "stdout",
          "text": [
            "\u001b[2K   \u001b[90m━━━━━━━━━━━━━━━━━━━━━━━━━━━━━━━━━━━━━━━━\u001b[0m \u001b[32m709.3/709.3 kB\u001b[0m \u001b[31m18.8 MB/s\u001b[0m eta \u001b[36m0:00:00\u001b[0m\n",
            "\u001b[2K   \u001b[90m━━━━━━━━━━━━━━━━━━━━━━━━━━━━━━━━━━━━━━━━\u001b[0m \u001b[32m1.6/1.6 MB\u001b[0m \u001b[31m31.3 MB/s\u001b[0m eta \u001b[36m0:00:00\u001b[0m\n",
            "\u001b[?25h"
          ]
        }
      ]
    },
    {
      "cell_type": "code",
      "source": [
        "device = torch.device('cuda' if torch.cuda.is_available() else 'cpu')"
      ],
      "metadata": {
        "id": "esWQDnF_A409"
      },
      "execution_count": 6,
      "outputs": []
    },
    {
      "cell_type": "code",
      "source": [
        "xm = load_model('transmitter', device=device)\n",
        "model = load_model('image300M', device=device)\n",
        "diffusion = diffusion_from_config(load_config('diffusion'))"
      ],
      "metadata": {
        "id": "TQ1U-IyiA7Gs",
        "colab": {
          "base_uri": "https://localhost:8080/",
          "height": 257,
          "referenced_widgets": [
            "a08f5fb15db24927b09e0c2dc985dc7d",
            "3320e7d0a9984888a5486a7ac448b062",
            "181514a38b0f42569a68b65cd6f0c0c9",
            "1d701e1198314f3d994e45a6404d9031",
            "a92011c5de4f495a9f91af0d5464da53",
            "b48373efa7ac4724a1e97406bd6208ae",
            "9e186609d65149679580797b2e38e831",
            "20e86ea2833a426b85f3e1d11136bc96",
            "092797884b1c48f5867be75f32c9bf79",
            "2648ac44ce49443cbdfd38485bacb1b1",
            "0d0b35c95d4b41ab98e9551199dce7d4",
            "30595cd6446343ffbb08fa99e88a17e1",
            "cc3c08935783471a867ff1233f2ec64e",
            "44c8335c182a40398e409ebf403d9c4f",
            "612828c370b640f8981e9b4a76941352",
            "4038c547787f4f02a800f2009165f04f",
            "82706dc5377c47eeab7fcc2c5a1a475a",
            "d2cc796b861d46c8a53a01470bbac01c",
            "e327e26e659e45dca99508a3ae9272b1",
            "6b8fdec9e2434ca09a0958c04deb1836",
            "189b1585266d43d3baef2a4014a4a303",
            "bc232dc6305f4a58a3c88f6da94a7dec"
          ]
        },
        "outputId": "9c1ae792-9b54-4446-9516-224ddef76853"
      },
      "execution_count": 7,
      "outputs": [
        {
          "output_type": "stream",
          "name": "stderr",
          "text": [
            "/content/shap-e/shap_e/models/nn/checkpoint.py:31: FutureWarning: `torch.cuda.amp.custom_fwd(args...)` is deprecated. Please use `torch.amp.custom_fwd(args..., device_type='cuda')` instead.\n",
            "  @custom_fwd\n",
            "/content/shap-e/shap_e/models/nn/checkpoint.py:43: FutureWarning: `torch.cuda.amp.custom_bwd(args...)` is deprecated. Please use `torch.amp.custom_bwd(args..., device_type='cuda')` instead.\n",
            "  @custom_bwd\n",
            "/content/shap-e/shap_e/models/nn/checkpoint.py:61: FutureWarning: `torch.cuda.amp.custom_fwd(args...)` is deprecated. Please use `torch.amp.custom_fwd(args..., device_type='cuda')` instead.\n",
            "  @custom_fwd\n",
            "/content/shap-e/shap_e/models/nn/checkpoint.py:86: FutureWarning: `torch.cuda.amp.custom_bwd(args...)` is deprecated. Please use `torch.amp.custom_bwd(args..., device_type='cuda')` instead.\n",
            "  @custom_bwd\n"
          ]
        },
        {
          "output_type": "display_data",
          "data": {
            "text/plain": [
              "  0%|          | 0.00/1.78G [00:00<?, ?iB/s]"
            ],
            "application/vnd.jupyter.widget-view+json": {
              "version_major": 2,
              "version_minor": 0,
              "model_id": "a08f5fb15db24927b09e0c2dc985dc7d"
            }
          },
          "metadata": {}
        },
        {
          "output_type": "stream",
          "name": "stderr",
          "text": [
            "100%|███████████████████████████████████████| 890M/890M [00:11<00:00, 82.0MiB/s]\n"
          ]
        },
        {
          "output_type": "display_data",
          "data": {
            "text/plain": [
              "  0%|          | 0.00/1.26G [00:00<?, ?iB/s]"
            ],
            "application/vnd.jupyter.widget-view+json": {
              "version_major": 2,
              "version_minor": 0,
              "model_id": "30595cd6446343ffbb08fa99e88a17e1"
            }
          },
          "metadata": {}
        }
      ]
    },
    {
      "cell_type": "code",
      "source": [
        "batch_size = 4\n",
        "guidance_scale = 3.0\n",
        "\n",
        "# To get the best result, you should remove the background and show only the object of interest to the model.\n",
        "# remember to change the path and the names of your custom image. ex. use the same path as shape-e: content/corgi.png\n",
        "image = load_image(\"/content/corgi.png\")\n",
        "\n",
        "latents = sample_latents(\n",
        "    batch_size=batch_size,\n",
        "    model=model,\n",
        "    diffusion=diffusion,\n",
        "    guidance_scale=guidance_scale,\n",
        "    model_kwargs=dict(images=[image] * batch_size),\n",
        "    progress=True,\n",
        "    clip_denoised=True,\n",
        "    use_fp16=True,\n",
        "    use_karras=True,\n",
        "    karras_steps=64,\n",
        "    sigma_min=1e-3,\n",
        "    sigma_max=160,\n",
        "    s_churn=0,\n",
        ")"
      ],
      "metadata": {
        "id": "3dlTeeZWA9SE",
        "colab": {
          "base_uri": "https://localhost:8080/",
          "height": 49,
          "referenced_widgets": [
            "8d488cb7b424404aa8670866e71b4186",
            "ea098708cd7e44a99cece69e0723f172",
            "44e65264ad5247399783c73ab6173554",
            "2238995983a343a99ef985f3f015fcbe",
            "c4d3c19f86014a68a422aaae36cb29c1",
            "eef8c4075bd34b528b5edbe2e4ca3f08",
            "b0c7d99371ae44cdb80d73456b84be12",
            "607732aebb8049dcbeb95db125f7c9f3",
            "c29b58fa461d41de90d979ee1049f701",
            "a84e04c6999c48019aded916f4ee873f",
            "9c4948107c5d41abaef7a3fef330ba2f"
          ]
        },
        "outputId": "ff08beb8-86e0-4a2d-b7d6-c942fbd98711"
      },
      "execution_count": 9,
      "outputs": [
        {
          "output_type": "display_data",
          "data": {
            "text/plain": [
              "  0%|          | 0/64 [00:00<?, ?it/s]"
            ],
            "application/vnd.jupyter.widget-view+json": {
              "version_major": 2,
              "version_minor": 0,
              "model_id": "8d488cb7b424404aa8670866e71b4186"
            }
          },
          "metadata": {}
        }
      ]
    },
    {
      "cell_type": "code",
      "source": [
        "render_mode = 'nerf' # you can change this to 'stf' for mesh rendering\n",
        "size = 64 # this is the size of the renders; higher values take longer to render.\n",
        "\n",
        "cameras = create_pan_cameras(size, device)\n",
        "for i, latent in enumerate(latents):\n",
        "    images = decode_latent_images(xm, latent, cameras, rendering_mode=render_mode)\n",
        "    display(gif_widget(images))"
      ],
      "metadata": {
        "id": "OoKXkP7FA_ZU",
        "colab": {
          "base_uri": "https://localhost:8080/",
          "height": 321,
          "referenced_widgets": [
            "d3572865f79e40638b105572a77a4b2f",
            "426090563f1440c0916e58d7c0a6eae5",
            "30d8b874c1c344c995a1f4069757cefc",
            "7c2a86f56ea34d9dad00177b08d742f8",
            "cdfd27027f124e9e9e7d947da7f8430a",
            "0e6ad5d530b1469aaf4c92b76f1dbb4c",
            "ebb33b1c2695449eaed9f6cad50cc127",
            "d83fe45fdfea4a33bd12618c61e7967b",
            "6c8b4545b6c64fff891915d55c08ace4",
            "36cf03db7dd04c12a05088c42c876169",
            "4da7660e7fd748bbb448747a3b26cfd2",
            "0d1dfab766e74a51ae510fb3410fe00c"
          ]
        },
        "outputId": "0b155768-46db-4004-d293-cdb1b208c9cf"
      },
      "execution_count": 10,
      "outputs": [
        {
          "output_type": "display_data",
          "data": {
            "text/plain": [
              "HTML(value='<img src=\"data:image/gif;base64,R0lGODlhQABAAIcAAPHe1vLazfDWyejb1u7WyuDY0e3UyOjV0u7SwuXU0d3Tzu/Qud…"
            ],
            "application/vnd.jupyter.widget-view+json": {
              "version_major": 2,
              "version_minor": 0,
              "model_id": "d3572865f79e40638b105572a77a4b2f"
            }
          },
          "metadata": {}
        },
        {
          "output_type": "display_data",
          "data": {
            "text/plain": [
              "HTML(value='<img src=\"data:image/gif;base64,R0lGODlhQABAAIcAAPvm4vrl4frl4Pnk4Pjk3/fk4Prj4Pni4PXi3vjh3/Xg3fPg2/…"
            ],
            "application/vnd.jupyter.widget-view+json": {
              "version_major": 2,
              "version_minor": 0,
              "model_id": "7c2a86f56ea34d9dad00177b08d742f8"
            }
          },
          "metadata": {}
        },
        {
          "output_type": "display_data",
          "data": {
            "text/plain": [
              "HTML(value='<img src=\"data:image/gif;base64,R0lGODlhQABAAIcAAOTi3d/e2N3Z09rWztbVzNjTydjPyNPPxtXLwMzJvdTFutXEtd…"
            ],
            "application/vnd.jupyter.widget-view+json": {
              "version_major": 2,
              "version_minor": 0,
              "model_id": "ebb33b1c2695449eaed9f6cad50cc127"
            }
          },
          "metadata": {}
        },
        {
          "output_type": "display_data",
          "data": {
            "text/plain": [
              "HTML(value='<img src=\"data:image/gif;base64,R0lGODlhQABAAIcAAPDx7PDw6+/v6u/t6ezt6Orr6Onq5+fp5eXn4+Xm5eXl4+Tl4+…"
            ],
            "application/vnd.jupyter.widget-view+json": {
              "version_major": 2,
              "version_minor": 0,
              "model_id": "36cf03db7dd04c12a05088c42c876169"
            }
          },
          "metadata": {}
        }
      ]
    },
    {
      "cell_type": "code",
      "source": [
        "# Example of saving the latents as meshes.\n",
        "from shap_e.util.notebooks import decode_latent_mesh\n",
        "\n",
        "for i, latent in enumerate(latents):\n",
        "    t = decode_latent_mesh(xm, latent).tri_mesh()\n",
        "    with open(f'example_mesh_{i}.ply', 'wb') as f:\n",
        "        t.write_ply(f)\n",
        "    with open(f'example_mesh_{i}.obj', 'w') as f:\n",
        "        t.write_obj(f)"
      ],
      "metadata": {
        "id": "8hcpy7PyBDYM",
        "colab": {
          "base_uri": "https://localhost:8080/"
        },
        "outputId": "7c8b3a6a-4166-458b-b3fe-576571f0bef4"
      },
      "execution_count": 11,
      "outputs": [
        {
          "output_type": "stream",
          "name": "stderr",
          "text": [
            "/content/shap-e/shap_e/models/stf/renderer.py:286: UserWarning: exception rendering with PyTorch3D: No module named 'pytorch3d'\n",
            "  warnings.warn(f\"exception rendering with PyTorch3D: {exc}\")\n",
            "/content/shap-e/shap_e/models/stf/renderer.py:287: UserWarning: falling back on native PyTorch renderer, which does not support full gradients\n",
            "  warnings.warn(\n"
          ]
        }
      ]
    },
    {
      "cell_type": "code",
      "source": [
        "from google.colab import drive\n",
        "drive.mount('/content/drive')"
      ],
      "metadata": {
        "colab": {
          "base_uri": "https://localhost:8080/"
        },
        "id": "X5nBxdvbdSBY",
        "outputId": "e8385ea8-928b-423b-a222-3c81ad5bfd46"
      },
      "execution_count": 12,
      "outputs": [
        {
          "output_type": "stream",
          "name": "stdout",
          "text": [
            "Mounted at /content/drive\n"
          ]
        }
      ]
    },
    {
      "cell_type": "code",
      "source": [],
      "metadata": {
        "id": "wrpj3rgxdWTk"
      },
      "execution_count": null,
      "outputs": []
    }
  ]
}