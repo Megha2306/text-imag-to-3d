{
  "cells": [
    {
      "cell_type": "markdown",
      "metadata": {
        "id": "view-in-github"
      },
      "source": [
        "<a href=\"https://colab.research.google.com/github/BrutFab/shap-e_colab/blob/main/%20shape_e_text_to_3d_colab.ipynb\" target=\"_parent\"><img src=\"https://colab.research.google.com/assets/colab-badge.svg\" alt=\"Open In Colab\"/></a>"
      ]
    },
    {
      "cell_type": "code",
      "source": [
        "!git clone https://github.com/openai/shap-e"
      ],
      "metadata": {
        "id": "5S6S_IGGNjOg",
        "colab": {
          "base_uri": "https://localhost:8080/"
        },
        "outputId": "1c1ac115-1f65-4753-c360-e4412c3d2b94"
      },
      "execution_count": null,
      "outputs": [
        {
          "output_type": "stream",
          "name": "stdout",
          "text": [
            "Cloning into 'shap-e'...\n",
            "remote: Enumerating objects: 336, done.\u001b[K\n",
            "remote: Counting objects: 100% (55/55), done.\u001b[K\n",
            "remote: Compressing objects: 100% (42/42), done.\u001b[K\n",
            "remote: Total 336 (delta 35), reused 13 (delta 13), pack-reused 281 (from 2)\u001b[K\n",
            "Receiving objects: 100% (336/336), 11.72 MiB | 9.26 MiB/s, done.\n",
            "Resolving deltas: 100% (43/43), done.\n"
          ]
        }
      ]
    },
    {
      "cell_type": "code",
      "source": [
        "%cd shap-e"
      ],
      "metadata": {
        "id": "uVsGq19rN8Fm",
        "colab": {
          "base_uri": "https://localhost:8080/"
        },
        "outputId": "6eded457-fb43-421d-c7de-b0e553f88d12"
      },
      "execution_count": null,
      "outputs": [
        {
          "output_type": "stream",
          "name": "stdout",
          "text": [
            "/content/shap-e\n"
          ]
        }
      ]
    },
    {
      "cell_type": "code",
      "source": [
        "!pip install -e ."
      ],
      "metadata": {
        "id": "idlKJ9WtOBB0",
        "colab": {
          "base_uri": "https://localhost:8080/"
        },
        "outputId": "ebe3e8c2-f222-48bd-f792-3fac5a4bc226"
      },
      "execution_count": null,
      "outputs": [
        {
          "output_type": "stream",
          "name": "stdout",
          "text": [
            "Obtaining file:///content/shap-e\n",
            "  Preparing metadata (setup.py) ... \u001b[?25l\u001b[?25hdone\n",
            "Collecting clip@ git+https://github.com/openai/CLIP.git (from shap-e==0.0.0)\n",
            "  Cloning https://github.com/openai/CLIP.git to /tmp/pip-install-cd7voy54/clip_cac488a4dd7d49e398707857840e6c75\n",
            "  Running command git clone --filter=blob:none --quiet https://github.com/openai/CLIP.git /tmp/pip-install-cd7voy54/clip_cac488a4dd7d49e398707857840e6c75\n",
            "  Resolved https://github.com/openai/CLIP.git to commit dcba3cb2e2827b402d2701e7e1c7d9fed8a20ef1\n",
            "  Preparing metadata (setup.py) ... \u001b[?25l\u001b[?25hdone\n",
            "Requirement already satisfied: filelock in /usr/local/lib/python3.11/dist-packages (from shap-e==0.0.0) (3.18.0)\n",
            "Requirement already satisfied: Pillow in /usr/local/lib/python3.11/dist-packages (from shap-e==0.0.0) (11.2.1)\n",
            "Requirement already satisfied: torch in /usr/local/lib/python3.11/dist-packages (from shap-e==0.0.0) (2.6.0+cu124)\n",
            "Collecting fire (from shap-e==0.0.0)\n",
            "  Downloading fire-0.7.0.tar.gz (87 kB)\n",
            "\u001b[2K     \u001b[90m━━━━━━━━━━━━━━━━━━━━━━━━━━━━━━━━━━━━━━━━\u001b[0m \u001b[32m87.2/87.2 kB\u001b[0m \u001b[31m4.3 MB/s\u001b[0m eta \u001b[36m0:00:00\u001b[0m\n",
            "\u001b[?25h  Preparing metadata (setup.py) ... \u001b[?25l\u001b[?25hdone\n",
            "Requirement already satisfied: humanize in /usr/local/lib/python3.11/dist-packages (from shap-e==0.0.0) (4.12.2)\n",
            "Requirement already satisfied: requests in /usr/local/lib/python3.11/dist-packages (from shap-e==0.0.0) (2.32.3)\n",
            "Requirement already satisfied: tqdm in /usr/local/lib/python3.11/dist-packages (from shap-e==0.0.0) (4.67.1)\n",
            "Requirement already satisfied: matplotlib in /usr/local/lib/python3.11/dist-packages (from shap-e==0.0.0) (3.10.0)\n",
            "Requirement already satisfied: scikit-image in /usr/local/lib/python3.11/dist-packages (from shap-e==0.0.0) (0.25.2)\n",
            "Requirement already satisfied: scipy in /usr/local/lib/python3.11/dist-packages (from shap-e==0.0.0) (1.15.2)\n",
            "Requirement already satisfied: numpy in /usr/local/lib/python3.11/dist-packages (from shap-e==0.0.0) (2.0.2)\n",
            "Collecting blobfile (from shap-e==0.0.0)\n",
            "  Downloading blobfile-3.0.0-py3-none-any.whl.metadata (15 kB)\n",
            "Collecting pycryptodomex>=3.8 (from blobfile->shap-e==0.0.0)\n",
            "  Downloading pycryptodomex-3.22.0-cp37-abi3-manylinux_2_17_x86_64.manylinux2014_x86_64.whl.metadata (3.4 kB)\n",
            "Requirement already satisfied: urllib3<3,>=1.25.3 in /usr/local/lib/python3.11/dist-packages (from blobfile->shap-e==0.0.0) (2.4.0)\n",
            "Requirement already satisfied: lxml>=4.9 in /usr/local/lib/python3.11/dist-packages (from blobfile->shap-e==0.0.0) (5.4.0)\n",
            "Collecting ftfy (from clip@ git+https://github.com/openai/CLIP.git->shap-e==0.0.0)\n",
            "  Downloading ftfy-6.3.1-py3-none-any.whl.metadata (7.3 kB)\n",
            "Requirement already satisfied: packaging in /usr/local/lib/python3.11/dist-packages (from clip@ git+https://github.com/openai/CLIP.git->shap-e==0.0.0) (24.2)\n",
            "Requirement already satisfied: regex in /usr/local/lib/python3.11/dist-packages (from clip@ git+https://github.com/openai/CLIP.git->shap-e==0.0.0) (2024.11.6)\n",
            "Requirement already satisfied: torchvision in /usr/local/lib/python3.11/dist-packages (from clip@ git+https://github.com/openai/CLIP.git->shap-e==0.0.0) (0.21.0+cu124)\n",
            "Requirement already satisfied: termcolor in /usr/local/lib/python3.11/dist-packages (from fire->shap-e==0.0.0) (3.0.1)\n",
            "Requirement already satisfied: contourpy>=1.0.1 in /usr/local/lib/python3.11/dist-packages (from matplotlib->shap-e==0.0.0) (1.3.2)\n",
            "Requirement already satisfied: cycler>=0.10 in /usr/local/lib/python3.11/dist-packages (from matplotlib->shap-e==0.0.0) (0.12.1)\n",
            "Requirement already satisfied: fonttools>=4.22.0 in /usr/local/lib/python3.11/dist-packages (from matplotlib->shap-e==0.0.0) (4.57.0)\n",
            "Requirement already satisfied: kiwisolver>=1.3.1 in /usr/local/lib/python3.11/dist-packages (from matplotlib->shap-e==0.0.0) (1.4.8)\n",
            "Requirement already satisfied: pyparsing>=2.3.1 in /usr/local/lib/python3.11/dist-packages (from matplotlib->shap-e==0.0.0) (3.2.3)\n",
            "Requirement already satisfied: python-dateutil>=2.7 in /usr/local/lib/python3.11/dist-packages (from matplotlib->shap-e==0.0.0) (2.9.0.post0)\n",
            "Requirement already satisfied: charset-normalizer<4,>=2 in /usr/local/lib/python3.11/dist-packages (from requests->shap-e==0.0.0) (3.4.1)\n",
            "Requirement already satisfied: idna<4,>=2.5 in /usr/local/lib/python3.11/dist-packages (from requests->shap-e==0.0.0) (3.10)\n",
            "Requirement already satisfied: certifi>=2017.4.17 in /usr/local/lib/python3.11/dist-packages (from requests->shap-e==0.0.0) (2025.4.26)\n",
            "Requirement already satisfied: networkx>=3.0 in /usr/local/lib/python3.11/dist-packages (from scikit-image->shap-e==0.0.0) (3.4.2)\n",
            "Requirement already satisfied: imageio!=2.35.0,>=2.33 in /usr/local/lib/python3.11/dist-packages (from scikit-image->shap-e==0.0.0) (2.37.0)\n",
            "Requirement already satisfied: tifffile>=2022.8.12 in /usr/local/lib/python3.11/dist-packages (from scikit-image->shap-e==0.0.0) (2025.3.30)\n",
            "Requirement already satisfied: lazy-loader>=0.4 in /usr/local/lib/python3.11/dist-packages (from scikit-image->shap-e==0.0.0) (0.4)\n",
            "Requirement already satisfied: typing-extensions>=4.10.0 in /usr/local/lib/python3.11/dist-packages (from torch->shap-e==0.0.0) (4.13.2)\n",
            "Requirement already satisfied: jinja2 in /usr/local/lib/python3.11/dist-packages (from torch->shap-e==0.0.0) (3.1.6)\n",
            "Requirement already satisfied: fsspec in /usr/local/lib/python3.11/dist-packages (from torch->shap-e==0.0.0) (2025.3.2)\n",
            "Collecting nvidia-cuda-nvrtc-cu12==12.4.127 (from torch->shap-e==0.0.0)\n",
            "  Downloading nvidia_cuda_nvrtc_cu12-12.4.127-py3-none-manylinux2014_x86_64.whl.metadata (1.5 kB)\n",
            "Collecting nvidia-cuda-runtime-cu12==12.4.127 (from torch->shap-e==0.0.0)\n",
            "  Downloading nvidia_cuda_runtime_cu12-12.4.127-py3-none-manylinux2014_x86_64.whl.metadata (1.5 kB)\n",
            "Collecting nvidia-cuda-cupti-cu12==12.4.127 (from torch->shap-e==0.0.0)\n",
            "  Downloading nvidia_cuda_cupti_cu12-12.4.127-py3-none-manylinux2014_x86_64.whl.metadata (1.6 kB)\n",
            "Collecting nvidia-cudnn-cu12==9.1.0.70 (from torch->shap-e==0.0.0)\n",
            "  Downloading nvidia_cudnn_cu12-9.1.0.70-py3-none-manylinux2014_x86_64.whl.metadata (1.6 kB)\n",
            "Collecting nvidia-cublas-cu12==12.4.5.8 (from torch->shap-e==0.0.0)\n",
            "  Downloading nvidia_cublas_cu12-12.4.5.8-py3-none-manylinux2014_x86_64.whl.metadata (1.5 kB)\n",
            "Collecting nvidia-cufft-cu12==11.2.1.3 (from torch->shap-e==0.0.0)\n",
            "  Downloading nvidia_cufft_cu12-11.2.1.3-py3-none-manylinux2014_x86_64.whl.metadata (1.5 kB)\n",
            "Collecting nvidia-curand-cu12==10.3.5.147 (from torch->shap-e==0.0.0)\n",
            "  Downloading nvidia_curand_cu12-10.3.5.147-py3-none-manylinux2014_x86_64.whl.metadata (1.5 kB)\n",
            "Collecting nvidia-cusolver-cu12==11.6.1.9 (from torch->shap-e==0.0.0)\n",
            "  Downloading nvidia_cusolver_cu12-11.6.1.9-py3-none-manylinux2014_x86_64.whl.metadata (1.6 kB)\n",
            "Collecting nvidia-cusparse-cu12==12.3.1.170 (from torch->shap-e==0.0.0)\n",
            "  Downloading nvidia_cusparse_cu12-12.3.1.170-py3-none-manylinux2014_x86_64.whl.metadata (1.6 kB)\n",
            "Requirement already satisfied: nvidia-cusparselt-cu12==0.6.2 in /usr/local/lib/python3.11/dist-packages (from torch->shap-e==0.0.0) (0.6.2)\n",
            "Requirement already satisfied: nvidia-nccl-cu12==2.21.5 in /usr/local/lib/python3.11/dist-packages (from torch->shap-e==0.0.0) (2.21.5)\n",
            "Requirement already satisfied: nvidia-nvtx-cu12==12.4.127 in /usr/local/lib/python3.11/dist-packages (from torch->shap-e==0.0.0) (12.4.127)\n",
            "Collecting nvidia-nvjitlink-cu12==12.4.127 (from torch->shap-e==0.0.0)\n",
            "  Downloading nvidia_nvjitlink_cu12-12.4.127-py3-none-manylinux2014_x86_64.whl.metadata (1.5 kB)\n",
            "Requirement already satisfied: triton==3.2.0 in /usr/local/lib/python3.11/dist-packages (from torch->shap-e==0.0.0) (3.2.0)\n",
            "Requirement already satisfied: sympy==1.13.1 in /usr/local/lib/python3.11/dist-packages (from torch->shap-e==0.0.0) (1.13.1)\n",
            "Requirement already satisfied: mpmath<1.4,>=1.1.0 in /usr/local/lib/python3.11/dist-packages (from sympy==1.13.1->torch->shap-e==0.0.0) (1.3.0)\n",
            "Requirement already satisfied: six>=1.5 in /usr/local/lib/python3.11/dist-packages (from python-dateutil>=2.7->matplotlib->shap-e==0.0.0) (1.17.0)\n",
            "Requirement already satisfied: wcwidth in /usr/local/lib/python3.11/dist-packages (from ftfy->clip@ git+https://github.com/openai/CLIP.git->shap-e==0.0.0) (0.2.13)\n",
            "Requirement already satisfied: MarkupSafe>=2.0 in /usr/local/lib/python3.11/dist-packages (from jinja2->torch->shap-e==0.0.0) (3.0.2)\n",
            "Downloading blobfile-3.0.0-py3-none-any.whl (75 kB)\n",
            "\u001b[2K   \u001b[90m━━━━━━━━━━━━━━━━━━━━━━━━━━━━━━━━━━━━━━━━\u001b[0m \u001b[32m75.4/75.4 kB\u001b[0m \u001b[31m4.5 MB/s\u001b[0m eta \u001b[36m0:00:00\u001b[0m\n",
            "\u001b[?25hDownloading nvidia_cublas_cu12-12.4.5.8-py3-none-manylinux2014_x86_64.whl (363.4 MB)\n",
            "\u001b[2K   \u001b[90m━━━━━━━━━━━━━━━━━━━━━━━━━━━━━━━━━━━━━━━━\u001b[0m \u001b[32m363.4/363.4 MB\u001b[0m \u001b[31m4.4 MB/s\u001b[0m eta \u001b[36m0:00:00\u001b[0m\n",
            "\u001b[?25hDownloading nvidia_cuda_cupti_cu12-12.4.127-py3-none-manylinux2014_x86_64.whl (13.8 MB)\n",
            "\u001b[2K   \u001b[90m━━━━━━━━━━━━━━━━━━━━━━━━━━━━━━━━━━━━━━━━\u001b[0m \u001b[32m13.8/13.8 MB\u001b[0m \u001b[31m119.8 MB/s\u001b[0m eta \u001b[36m0:00:00\u001b[0m\n",
            "\u001b[?25hDownloading nvidia_cuda_nvrtc_cu12-12.4.127-py3-none-manylinux2014_x86_64.whl (24.6 MB)\n",
            "\u001b[2K   \u001b[90m━━━━━━━━━━━━━━━━━━━━━━━━━━━━━━━━━━━━━━━━\u001b[0m \u001b[32m24.6/24.6 MB\u001b[0m \u001b[31m99.3 MB/s\u001b[0m eta \u001b[36m0:00:00\u001b[0m\n",
            "\u001b[?25hDownloading nvidia_cuda_runtime_cu12-12.4.127-py3-none-manylinux2014_x86_64.whl (883 kB)\n",
            "\u001b[2K   \u001b[90m━━━━━━━━━━━━━━━━━━━━━━━━━━━━━━━━━━━━━━━━\u001b[0m \u001b[32m883.7/883.7 kB\u001b[0m \u001b[31m61.6 MB/s\u001b[0m eta \u001b[36m0:00:00\u001b[0m\n",
            "\u001b[?25hDownloading nvidia_cudnn_cu12-9.1.0.70-py3-none-manylinux2014_x86_64.whl (664.8 MB)\n",
            "\u001b[2K   \u001b[90m━━━━━━━━━━━━━━━━━━━━━━━━━━━━━━━━━━━━━━━━\u001b[0m \u001b[32m664.8/664.8 MB\u001b[0m \u001b[31m2.6 MB/s\u001b[0m eta \u001b[36m0:00:00\u001b[0m\n",
            "\u001b[?25hDownloading nvidia_cufft_cu12-11.2.1.3-py3-none-manylinux2014_x86_64.whl (211.5 MB)\n",
            "\u001b[2K   \u001b[90m━━━━━━━━━━━━━━━━━━━━━━━━━━━━━━━━━━━━━━━━\u001b[0m \u001b[32m211.5/211.5 MB\u001b[0m \u001b[31m5.5 MB/s\u001b[0m eta \u001b[36m0:00:00\u001b[0m\n",
            "\u001b[?25hDownloading nvidia_curand_cu12-10.3.5.147-py3-none-manylinux2014_x86_64.whl (56.3 MB)\n",
            "\u001b[2K   \u001b[90m━━━━━━━━━━━━━━━━━━━━━━━━━━━━━━━━━━━━━━━━\u001b[0m \u001b[32m56.3/56.3 MB\u001b[0m \u001b[31m20.4 MB/s\u001b[0m eta \u001b[36m0:00:00\u001b[0m\n",
            "\u001b[?25hDownloading nvidia_cusolver_cu12-11.6.1.9-py3-none-manylinux2014_x86_64.whl (127.9 MB)\n",
            "\u001b[2K   \u001b[90m━━━━━━━━━━━━━━━━━━━━━━━━━━━━━━━━━━━━━━━━\u001b[0m \u001b[32m127.9/127.9 MB\u001b[0m \u001b[31m7.4 MB/s\u001b[0m eta \u001b[36m0:00:00\u001b[0m\n",
            "\u001b[?25hDownloading nvidia_cusparse_cu12-12.3.1.170-py3-none-manylinux2014_x86_64.whl (207.5 MB)\n",
            "\u001b[2K   \u001b[90m━━━━━━━━━━━━━━━━━━━━━━━━━━━━━━━━━━━━━━━━\u001b[0m \u001b[32m207.5/207.5 MB\u001b[0m \u001b[31m5.2 MB/s\u001b[0m eta \u001b[36m0:00:00\u001b[0m\n",
            "\u001b[?25hDownloading nvidia_nvjitlink_cu12-12.4.127-py3-none-manylinux2014_x86_64.whl (21.1 MB)\n",
            "\u001b[2K   \u001b[90m━━━━━━━━━━━━━━━━━━━━━━━━━━━━━━━━━━━━━━━━\u001b[0m \u001b[32m21.1/21.1 MB\u001b[0m \u001b[31m78.5 MB/s\u001b[0m eta \u001b[36m0:00:00\u001b[0m\n",
            "\u001b[?25hDownloading pycryptodomex-3.22.0-cp37-abi3-manylinux_2_17_x86_64.manylinux2014_x86_64.whl (2.3 MB)\n",
            "\u001b[2K   \u001b[90m━━━━━━━━━━━━━━━━━━━━━━━━━━━━━━━━━━━━━━━━\u001b[0m \u001b[32m2.3/2.3 MB\u001b[0m \u001b[31m79.4 MB/s\u001b[0m eta \u001b[36m0:00:00\u001b[0m\n",
            "\u001b[?25hDownloading ftfy-6.3.1-py3-none-any.whl (44 kB)\n",
            "\u001b[2K   \u001b[90m━━━━━━━━━━━━━━━━━━━━━━━━━━━━━━━━━━━━━━━━\u001b[0m \u001b[32m44.8/44.8 kB\u001b[0m \u001b[31m4.8 MB/s\u001b[0m eta \u001b[36m0:00:00\u001b[0m\n",
            "\u001b[?25hBuilding wheels for collected packages: clip, fire\n",
            "  Building wheel for clip (setup.py) ... \u001b[?25l\u001b[?25hdone\n",
            "  Created wheel for clip: filename=clip-1.0-py3-none-any.whl size=1369490 sha256=51ec2ff3c211504e77a64487dcf20d301cc571ae64620bc6d89b7c3220554526\n",
            "  Stored in directory: /tmp/pip-ephem-wheel-cache-man8gbku/wheels/3f/7c/a4/9b490845988bf7a4db33674d52f709f088f64392063872eb9a\n",
            "  Building wheel for fire (setup.py) ... \u001b[?25l\u001b[?25hdone\n",
            "  Created wheel for fire: filename=fire-0.7.0-py3-none-any.whl size=114249 sha256=c403a8182ff28e9e4806b4b1054c670593c4c1cb63b03c6de4082bbeeba9dd24\n",
            "  Stored in directory: /root/.cache/pip/wheels/46/54/24/1624fd5b8674eb1188623f7e8e17cdf7c0f6c24b609dfb8a89\n",
            "Successfully built clip fire\n",
            "Installing collected packages: pycryptodomex, nvidia-nvjitlink-cu12, nvidia-curand-cu12, nvidia-cufft-cu12, nvidia-cuda-runtime-cu12, nvidia-cuda-nvrtc-cu12, nvidia-cuda-cupti-cu12, nvidia-cublas-cu12, ftfy, fire, nvidia-cusparse-cu12, nvidia-cudnn-cu12, blobfile, nvidia-cusolver-cu12, clip, shap-e\n",
            "  Attempting uninstall: nvidia-nvjitlink-cu12\n",
            "    Found existing installation: nvidia-nvjitlink-cu12 12.5.82\n",
            "    Uninstalling nvidia-nvjitlink-cu12-12.5.82:\n",
            "      Successfully uninstalled nvidia-nvjitlink-cu12-12.5.82\n",
            "  Attempting uninstall: nvidia-curand-cu12\n",
            "    Found existing installation: nvidia-curand-cu12 10.3.6.82\n",
            "    Uninstalling nvidia-curand-cu12-10.3.6.82:\n",
            "      Successfully uninstalled nvidia-curand-cu12-10.3.6.82\n",
            "  Attempting uninstall: nvidia-cufft-cu12\n",
            "    Found existing installation: nvidia-cufft-cu12 11.2.3.61\n",
            "    Uninstalling nvidia-cufft-cu12-11.2.3.61:\n",
            "      Successfully uninstalled nvidia-cufft-cu12-11.2.3.61\n",
            "  Attempting uninstall: nvidia-cuda-runtime-cu12\n",
            "    Found existing installation: nvidia-cuda-runtime-cu12 12.5.82\n",
            "    Uninstalling nvidia-cuda-runtime-cu12-12.5.82:\n",
            "      Successfully uninstalled nvidia-cuda-runtime-cu12-12.5.82\n",
            "  Attempting uninstall: nvidia-cuda-nvrtc-cu12\n",
            "    Found existing installation: nvidia-cuda-nvrtc-cu12 12.5.82\n",
            "    Uninstalling nvidia-cuda-nvrtc-cu12-12.5.82:\n",
            "      Successfully uninstalled nvidia-cuda-nvrtc-cu12-12.5.82\n",
            "  Attempting uninstall: nvidia-cuda-cupti-cu12\n",
            "    Found existing installation: nvidia-cuda-cupti-cu12 12.5.82\n",
            "    Uninstalling nvidia-cuda-cupti-cu12-12.5.82:\n",
            "      Successfully uninstalled nvidia-cuda-cupti-cu12-12.5.82\n",
            "  Attempting uninstall: nvidia-cublas-cu12\n",
            "    Found existing installation: nvidia-cublas-cu12 12.5.3.2\n",
            "    Uninstalling nvidia-cublas-cu12-12.5.3.2:\n",
            "      Successfully uninstalled nvidia-cublas-cu12-12.5.3.2\n",
            "  Attempting uninstall: nvidia-cusparse-cu12\n",
            "    Found existing installation: nvidia-cusparse-cu12 12.5.1.3\n",
            "    Uninstalling nvidia-cusparse-cu12-12.5.1.3:\n",
            "      Successfully uninstalled nvidia-cusparse-cu12-12.5.1.3\n",
            "  Attempting uninstall: nvidia-cudnn-cu12\n",
            "    Found existing installation: nvidia-cudnn-cu12 9.3.0.75\n",
            "    Uninstalling nvidia-cudnn-cu12-9.3.0.75:\n",
            "      Successfully uninstalled nvidia-cudnn-cu12-9.3.0.75\n",
            "  Attempting uninstall: nvidia-cusolver-cu12\n",
            "    Found existing installation: nvidia-cusolver-cu12 11.6.3.83\n",
            "    Uninstalling nvidia-cusolver-cu12-11.6.3.83:\n",
            "      Successfully uninstalled nvidia-cusolver-cu12-11.6.3.83\n",
            "  Running setup.py develop for shap-e\n",
            "Successfully installed blobfile-3.0.0 clip-1.0 fire-0.7.0 ftfy-6.3.1 nvidia-cublas-cu12-12.4.5.8 nvidia-cuda-cupti-cu12-12.4.127 nvidia-cuda-nvrtc-cu12-12.4.127 nvidia-cuda-runtime-cu12-12.4.127 nvidia-cudnn-cu12-9.1.0.70 nvidia-cufft-cu12-11.2.1.3 nvidia-curand-cu12-10.3.5.147 nvidia-cusolver-cu12-11.6.1.9 nvidia-cusparse-cu12-12.3.1.170 nvidia-nvjitlink-cu12-12.4.127 pycryptodomex-3.22.0 shap-e-0.0.0\n"
          ]
        }
      ]
    },
    {
      "cell_type": "code",
      "source": [
        "import torch\n",
        "!pip install -q diffusers transformers accelerate torch trimesh pillow flask flask-ngrok\n",
        "!pip install -q import-ipynb\n",
        "\n",
        "from shap_e.diffusion.sample import sample_latents\n",
        "from shap_e.diffusion.gaussian_diffusion import diffusion_from_config\n",
        "from shap_e.models.download import load_model, load_config\n",
        "from shap_e.util.notebooks import create_pan_cameras, decode_latent_images, gif_widget"
      ],
      "metadata": {
        "id": "cBX1WHwiOL-p",
        "colab": {
          "base_uri": "https://localhost:8080/"
        },
        "outputId": "6dd50633-0cf3-433e-cad9-e2e1cd997878"
      },
      "execution_count": null,
      "outputs": [
        {
          "output_type": "stream",
          "name": "stdout",
          "text": [
            "\u001b[2K   \u001b[90m━━━━━━━━━━━━━━━━━━━━━━━━━━━━━━━━━━━━━━━━\u001b[0m \u001b[32m709.3/709.3 kB\u001b[0m \u001b[31m19.7 MB/s\u001b[0m eta \u001b[36m0:00:00\u001b[0m\n",
            "\u001b[2K   \u001b[90m━━━━━━━━━━━━━━━━━━━━━━━━━━━━━━━━━━━━━━━━\u001b[0m \u001b[32m1.6/1.6 MB\u001b[0m \u001b[31m32.4 MB/s\u001b[0m eta \u001b[36m0:00:00\u001b[0m\n",
            "\u001b[?25h"
          ]
        }
      ]
    },
    {
      "cell_type": "code",
      "source": [
        "device = torch.device('cuda' if torch.cuda.is_available() else 'cpu')"
      ],
      "metadata": {
        "id": "H9u87BEmOdXv"
      },
      "execution_count": null,
      "outputs": []
    },
    {
      "cell_type": "code",
      "source": [
        "xm = load_model('transmitter', device=device)\n",
        "model = load_model('text300M', device=device)\n",
        "diffusion = diffusion_from_config(load_config('diffusion'))"
      ],
      "metadata": {
        "id": "Dqkiv5AVOk7_",
        "colab": {
          "base_uri": "https://localhost:8080/",
          "height": 257,
          "referenced_widgets": [
            "9bc11f074379404fb6af309e42114edd",
            "0a770c6cf8de4766a5fc0416b7e6ffc3",
            "2102575592c548688d3df63d8a4caf34",
            "527235f1b72143c882b1910ff334f4e8",
            "ef1f1cd5b9da408888a7dbd3f0e79331",
            "6cea5395b7da4e478952b5c020f1cee7",
            "00f7bd0032db413694cfe5d757540f1f",
            "4c89bb9a39e24f4bbc1af014242eac2c",
            "4db5f071f8924894b14164a2541f4928",
            "072c5833a93f41dab15c291203417473",
            "32f1cb5c86e64b7cb0dae502fffd2fcf",
            "150351f1c3b24092aa63283bc76a27e9",
            "1c32f97fafe447469afdfb7140bf79ec",
            "93291ba5c3494b7b992025d6905726ea",
            "9bdd2349d6c641d1bacc24b2bd8dd4db",
            "c3ee165ca75a44f8820fe326f9e5e9b8",
            "7764eff7bf5448dd9f7ed19afa823a59",
            "6851f72860b444dabf8c5bbb34ebc6fd",
            "d4208e4e13ac4e4eab92b5bbe530462f",
            "e6803948713044f4a32ca36da99c8b82",
            "da59807d573a4e088e06fd1252be5167",
            "068614eace0945fd95ec48ebee8daaed"
          ]
        },
        "outputId": "708b0ecc-d009-4362-c129-e31c8d9340ab"
      },
      "execution_count": null,
      "outputs": [
        {
          "output_type": "stream",
          "name": "stderr",
          "text": [
            "/content/shap-e/shap_e/models/nn/checkpoint.py:31: FutureWarning: `torch.cuda.amp.custom_fwd(args...)` is deprecated. Please use `torch.amp.custom_fwd(args..., device_type='cuda')` instead.\n",
            "  @custom_fwd\n",
            "/content/shap-e/shap_e/models/nn/checkpoint.py:43: FutureWarning: `torch.cuda.amp.custom_bwd(args...)` is deprecated. Please use `torch.amp.custom_bwd(args..., device_type='cuda')` instead.\n",
            "  @custom_bwd\n",
            "/content/shap-e/shap_e/models/nn/checkpoint.py:61: FutureWarning: `torch.cuda.amp.custom_fwd(args...)` is deprecated. Please use `torch.amp.custom_fwd(args..., device_type='cuda')` instead.\n",
            "  @custom_fwd\n",
            "/content/shap-e/shap_e/models/nn/checkpoint.py:86: FutureWarning: `torch.cuda.amp.custom_bwd(args...)` is deprecated. Please use `torch.amp.custom_bwd(args..., device_type='cuda')` instead.\n",
            "  @custom_bwd\n"
          ]
        },
        {
          "output_type": "display_data",
          "data": {
            "text/plain": [
              "  0%|          | 0.00/1.78G [00:00<?, ?iB/s]"
            ],
            "application/vnd.jupyter.widget-view+json": {
              "version_major": 2,
              "version_minor": 0,
              "model_id": "9bc11f074379404fb6af309e42114edd"
            }
          },
          "metadata": {}
        },
        {
          "output_type": "stream",
          "name": "stderr",
          "text": [
            "100%|████████████████████████████████████████| 890M/890M [00:08<00:00, 115MiB/s]\n"
          ]
        },
        {
          "output_type": "display_data",
          "data": {
            "text/plain": [
              "  0%|          | 0.00/1.26G [00:00<?, ?iB/s]"
            ],
            "application/vnd.jupyter.widget-view+json": {
              "version_major": 2,
              "version_minor": 0,
              "model_id": "150351f1c3b24092aa63283bc76a27e9"
            }
          },
          "metadata": {}
        }
      ]
    },
    {
      "cell_type": "code",
      "source": [
        "batch_size = 1\n",
        "guidance_scale = 15.0\n",
        "prompt = \"a shark\"\n",
        "\n",
        "latents = sample_latents(\n",
        "    batch_size=batch_size,\n",
        "    model=model,\n",
        "    diffusion=diffusion,\n",
        "    guidance_scale=guidance_scale,\n",
        "    model_kwargs=dict(texts=[prompt] * batch_size),\n",
        "    progress=True,\n",
        "    clip_denoised=True,\n",
        "    use_fp16=True,\n",
        "    use_karras=True,\n",
        "    karras_steps=64,\n",
        "    sigma_min=1e-3,\n",
        "    sigma_max=160,\n",
        "    s_churn=0,\n",
        ")"
      ],
      "metadata": {
        "id": "mWwUoNlgOmOy",
        "colab": {
          "base_uri": "https://localhost:8080/",
          "height": 49,
          "referenced_widgets": [
            "0a7ca7f596f247a8b0d911d681ed1a3c",
            "878f96d31b6f4cac8fe819359387c02e",
            "2ca1f5b87ff6453db1bd996e42e7dd4c",
            "6d30f533a8624e60b32655e0eaaa2da1",
            "680dda428f5040babeac50cd6da56550",
            "f5d92f89def14017a2959036321a800a",
            "e0d9cd371ffa47e4bbd40f3e6b58ad1c",
            "901ffd93654f4e1188eb2a700a17fd5b",
            "a880657115d74dae9122a89e3a471fe3",
            "b44448fba66b44bda1c9a87c04eaea93",
            "c37c6ae8bc9344d0a7a1ccb252b006b6"
          ]
        },
        "outputId": "1a58ffaf-3ac6-4ba3-c79e-a71dfb87e372"
      },
      "execution_count": null,
      "outputs": [
        {
          "output_type": "display_data",
          "data": {
            "text/plain": [
              "  0%|          | 0/64 [00:00<?, ?it/s]"
            ],
            "application/vnd.jupyter.widget-view+json": {
              "version_major": 2,
              "version_minor": 0,
              "model_id": "0a7ca7f596f247a8b0d911d681ed1a3c"
            }
          },
          "metadata": {}
        }
      ]
    },
    {
      "cell_type": "code",
      "source": [
        "render_mode = 'nerf' # you can change this to 'stf'\n",
        "size = 64 # this is the size of the renders; higher values take longer to render.\n",
        "\n",
        "cameras = create_pan_cameras(size, device)\n",
        "for i, latent in enumerate(latents):\n",
        "    images = decode_latent_images(xm, latent, cameras, rendering_mode=render_mode)\n",
        "    display(gif_widget(images))"
      ],
      "metadata": {
        "id": "lzjXWU7DP_SI",
        "colab": {
          "base_uri": "https://localhost:8080/",
          "height": 95,
          "referenced_widgets": [
            "2168c46ab357498f81bb67e8481d3ac5",
            "30a3ba27be1543d3aa0755e5a381405a",
            "2d6e5cd427f741dd9d04ed921f0bcdc5"
          ]
        },
        "outputId": "dc8119bf-a115-493c-892e-3d968d205de5"
      },
      "execution_count": null,
      "outputs": [
        {
          "output_type": "display_data",
          "data": {
            "text/plain": [
              "HTML(value='<img src=\"data:image/gif;base64,R0lGODlhQABAAIcAAPv7/fr7/Pj5+/f5+/f4+vb4+fX3+fP29/P19fL19/H09vDz9u…"
            ],
            "application/vnd.jupyter.widget-view+json": {
              "version_major": 2,
              "version_minor": 0,
              "model_id": "2168c46ab357498f81bb67e8481d3ac5"
            }
          },
          "metadata": {}
        }
      ]
    },
    {
      "cell_type": "code",
      "source": [
        "# Example of saving the latents as meshes.\n",
        "from shap_e.util.notebooks import decode_latent_mesh\n",
        "\n",
        "for i, latent in enumerate(latents):\n",
        "    t = decode_latent_mesh(xm, latent).tri_mesh()\n",
        "    with open(f'spaceship_{i}.obj', 'w') as f:\n",
        "        t.write_obj(f)"
      ],
      "metadata": {
        "id": "B9POyt0IQlsk",
        "colab": {
          "base_uri": "https://localhost:8080/"
        },
        "outputId": "6899ae2d-89c6-40d8-9796-2d0c6a544657"
      },
      "execution_count": null,
      "outputs": [
        {
          "output_type": "stream",
          "name": "stderr",
          "text": [
            "/content/shap-e/shap_e/models/stf/renderer.py:286: UserWarning: exception rendering with PyTorch3D: No module named 'pytorch3d'\n",
            "  warnings.warn(f\"exception rendering with PyTorch3D: {exc}\")\n",
            "/content/shap-e/shap_e/models/stf/renderer.py:287: UserWarning: falling back on native PyTorch renderer, which does not support full gradients\n",
            "  warnings.warn(\n"
          ]
        }
      ]
    },
    {
      "cell_type": "code",
      "source": [
        "from google.colab import drive\n",
        "drive.mount('/content/drive')"
      ],
      "metadata": {
        "id": "3F_DGYIJZRTX",
        "colab": {
          "base_uri": "https://localhost:8080/"
        },
        "outputId": "07d77fb9-09be-4e1b-b4fc-568ec043d86d"
      },
      "execution_count": 1,
      "outputs": [
        {
          "output_type": "stream",
          "name": "stdout",
          "text": [
            "Mounted at /content/drive\n"
          ]
        }
      ]
    },
    {
      "cell_type": "code",
      "source": [],
      "metadata": {
        "id": "-HD8BJvIpZW2"
      },
      "execution_count": null,
      "outputs": []
    }
  ],
  "metadata": {
    "accelerator": "GPU",
    "colab": {
      "provenance": [],
      "gpuType": "T4"
    },
    "kernelspec": {
      "display_name": "Python 3",
      "name": "python3"
    },
    "language_info": {
      "name": "python"
    },
    "widgets": {
      "application/vnd.jupyter.widget-state+json": {
        "9bc11f074379404fb6af309e42114edd": {
          "model_module": "@jupyter-widgets/controls",
          "model_name": "HBoxModel",
          "model_module_version": "1.5.0",
          "state": {
            "_dom_classes": [],
            "_model_module": "@jupyter-widgets/controls",
            "_model_module_version": "1.5.0",
            "_model_name": "HBoxModel",
            "_view_count": null,
            "_view_module": "@jupyter-widgets/controls",
            "_view_module_version": "1.5.0",
            "_view_name": "HBoxView",
            "box_style": "",
            "children": [
              "IPY_MODEL_0a770c6cf8de4766a5fc0416b7e6ffc3",
              "IPY_MODEL_2102575592c548688d3df63d8a4caf34",
              "IPY_MODEL_527235f1b72143c882b1910ff334f4e8"
            ],
            "layout": "IPY_MODEL_ef1f1cd5b9da408888a7dbd3f0e79331"
          }
        },
        "0a770c6cf8de4766a5fc0416b7e6ffc3": {
          "model_module": "@jupyter-widgets/controls",
          "model_name": "HTMLModel",
          "model_module_version": "1.5.0",
          "state": {
            "_dom_classes": [],
            "_model_module": "@jupyter-widgets/controls",
            "_model_module_version": "1.5.0",
            "_model_name": "HTMLModel",
            "_view_count": null,
            "_view_module": "@jupyter-widgets/controls",
            "_view_module_version": "1.5.0",
            "_view_name": "HTMLView",
            "description": "",
            "description_tooltip": null,
            "layout": "IPY_MODEL_6cea5395b7da4e478952b5c020f1cee7",
            "placeholder": "​",
            "style": "IPY_MODEL_00f7bd0032db413694cfe5d757540f1f",
            "value": "100%"
          }
        },
        "2102575592c548688d3df63d8a4caf34": {
          "model_module": "@jupyter-widgets/controls",
          "model_name": "FloatProgressModel",
          "model_module_version": "1.5.0",
          "state": {
            "_dom_classes": [],
            "_model_module": "@jupyter-widgets/controls",
            "_model_module_version": "1.5.0",
            "_model_name": "FloatProgressModel",
            "_view_count": null,
            "_view_module": "@jupyter-widgets/controls",
            "_view_module_version": "1.5.0",
            "_view_name": "ProgressView",
            "bar_style": "success",
            "description": "",
            "description_tooltip": null,
            "layout": "IPY_MODEL_4c89bb9a39e24f4bbc1af014242eac2c",
            "max": 1776048343,
            "min": 0,
            "orientation": "horizontal",
            "style": "IPY_MODEL_4db5f071f8924894b14164a2541f4928",
            "value": 1776048343
          }
        },
        "527235f1b72143c882b1910ff334f4e8": {
          "model_module": "@jupyter-widgets/controls",
          "model_name": "HTMLModel",
          "model_module_version": "1.5.0",
          "state": {
            "_dom_classes": [],
            "_model_module": "@jupyter-widgets/controls",
            "_model_module_version": "1.5.0",
            "_model_name": "HTMLModel",
            "_view_count": null,
            "_view_module": "@jupyter-widgets/controls",
            "_view_module_version": "1.5.0",
            "_view_name": "HTMLView",
            "description": "",
            "description_tooltip": null,
            "layout": "IPY_MODEL_072c5833a93f41dab15c291203417473",
            "placeholder": "​",
            "style": "IPY_MODEL_32f1cb5c86e64b7cb0dae502fffd2fcf",
            "value": " 1.78G/1.78G [00:39&lt;00:00, 46.9MiB/s]"
          }
        },
        "ef1f1cd5b9da408888a7dbd3f0e79331": {
          "model_module": "@jupyter-widgets/base",
          "model_name": "LayoutModel",
          "model_module_version": "1.2.0",
          "state": {
            "_model_module": "@jupyter-widgets/base",
            "_model_module_version": "1.2.0",
            "_model_name": "LayoutModel",
            "_view_count": null,
            "_view_module": "@jupyter-widgets/base",
            "_view_module_version": "1.2.0",
            "_view_name": "LayoutView",
            "align_content": null,
            "align_items": null,
            "align_self": null,
            "border": null,
            "bottom": null,
            "display": null,
            "flex": null,
            "flex_flow": null,
            "grid_area": null,
            "grid_auto_columns": null,
            "grid_auto_flow": null,
            "grid_auto_rows": null,
            "grid_column": null,
            "grid_gap": null,
            "grid_row": null,
            "grid_template_areas": null,
            "grid_template_columns": null,
            "grid_template_rows": null,
            "height": null,
            "justify_content": null,
            "justify_items": null,
            "left": null,
            "margin": null,
            "max_height": null,
            "max_width": null,
            "min_height": null,
            "min_width": null,
            "object_fit": null,
            "object_position": null,
            "order": null,
            "overflow": null,
            "overflow_x": null,
            "overflow_y": null,
            "padding": null,
            "right": null,
            "top": null,
            "visibility": null,
            "width": null
          }
        },
        "6cea5395b7da4e478952b5c020f1cee7": {
          "model_module": "@jupyter-widgets/base",
          "model_name": "LayoutModel",
          "model_module_version": "1.2.0",
          "state": {
            "_model_module": "@jupyter-widgets/base",
            "_model_module_version": "1.2.0",
            "_model_name": "LayoutModel",
            "_view_count": null,
            "_view_module": "@jupyter-widgets/base",
            "_view_module_version": "1.2.0",
            "_view_name": "LayoutView",
            "align_content": null,
            "align_items": null,
            "align_self": null,
            "border": null,
            "bottom": null,
            "display": null,
            "flex": null,
            "flex_flow": null,
            "grid_area": null,
            "grid_auto_columns": null,
            "grid_auto_flow": null,
            "grid_auto_rows": null,
            "grid_column": null,
            "grid_gap": null,
            "grid_row": null,
            "grid_template_areas": null,
            "grid_template_columns": null,
            "grid_template_rows": null,
            "height": null,
            "justify_content": null,
            "justify_items": null,
            "left": null,
            "margin": null,
            "max_height": null,
            "max_width": null,
            "min_height": null,
            "min_width": null,
            "object_fit": null,
            "object_position": null,
            "order": null,
            "overflow": null,
            "overflow_x": null,
            "overflow_y": null,
            "padding": null,
            "right": null,
            "top": null,
            "visibility": null,
            "width": null
          }
        },
        "00f7bd0032db413694cfe5d757540f1f": {
          "model_module": "@jupyter-widgets/controls",
          "model_name": "DescriptionStyleModel",
          "model_module_version": "1.5.0",
          "state": {
            "_model_module": "@jupyter-widgets/controls",
            "_model_module_version": "1.5.0",
            "_model_name": "DescriptionStyleModel",
            "_view_count": null,
            "_view_module": "@jupyter-widgets/base",
            "_view_module_version": "1.2.0",
            "_view_name": "StyleView",
            "description_width": ""
          }
        },
        "4c89bb9a39e24f4bbc1af014242eac2c": {
          "model_module": "@jupyter-widgets/base",
          "model_name": "LayoutModel",
          "model_module_version": "1.2.0",
          "state": {
            "_model_module": "@jupyter-widgets/base",
            "_model_module_version": "1.2.0",
            "_model_name": "LayoutModel",
            "_view_count": null,
            "_view_module": "@jupyter-widgets/base",
            "_view_module_version": "1.2.0",
            "_view_name": "LayoutView",
            "align_content": null,
            "align_items": null,
            "align_self": null,
            "border": null,
            "bottom": null,
            "display": null,
            "flex": null,
            "flex_flow": null,
            "grid_area": null,
            "grid_auto_columns": null,
            "grid_auto_flow": null,
            "grid_auto_rows": null,
            "grid_column": null,
            "grid_gap": null,
            "grid_row": null,
            "grid_template_areas": null,
            "grid_template_columns": null,
            "grid_template_rows": null,
            "height": null,
            "justify_content": null,
            "justify_items": null,
            "left": null,
            "margin": null,
            "max_height": null,
            "max_width": null,
            "min_height": null,
            "min_width": null,
            "object_fit": null,
            "object_position": null,
            "order": null,
            "overflow": null,
            "overflow_x": null,
            "overflow_y": null,
            "padding": null,
            "right": null,
            "top": null,
            "visibility": null,
            "width": null
          }
        },
        "4db5f071f8924894b14164a2541f4928": {
          "model_module": "@jupyter-widgets/controls",
          "model_name": "ProgressStyleModel",
          "model_module_version": "1.5.0",
          "state": {
            "_model_module": "@jupyter-widgets/controls",
            "_model_module_version": "1.5.0",
            "_model_name": "ProgressStyleModel",
            "_view_count": null,
            "_view_module": "@jupyter-widgets/base",
            "_view_module_version": "1.2.0",
            "_view_name": "StyleView",
            "bar_color": null,
            "description_width": ""
          }
        },
        "072c5833a93f41dab15c291203417473": {
          "model_module": "@jupyter-widgets/base",
          "model_name": "LayoutModel",
          "model_module_version": "1.2.0",
          "state": {
            "_model_module": "@jupyter-widgets/base",
            "_model_module_version": "1.2.0",
            "_model_name": "LayoutModel",
            "_view_count": null,
            "_view_module": "@jupyter-widgets/base",
            "_view_module_version": "1.2.0",
            "_view_name": "LayoutView",
            "align_content": null,
            "align_items": null,
            "align_self": null,
            "border": null,
            "bottom": null,
            "display": null,
            "flex": null,
            "flex_flow": null,
            "grid_area": null,
            "grid_auto_columns": null,
            "grid_auto_flow": null,
            "grid_auto_rows": null,
            "grid_column": null,
            "grid_gap": null,
            "grid_row": null,
            "grid_template_areas": null,
            "grid_template_columns": null,
            "grid_template_rows": null,
            "height": null,
            "justify_content": null,
            "justify_items": null,
            "left": null,
            "margin": null,
            "max_height": null,
            "max_width": null,
            "min_height": null,
            "min_width": null,
            "object_fit": null,
            "object_position": null,
            "order": null,
            "overflow": null,
            "overflow_x": null,
            "overflow_y": null,
            "padding": null,
            "right": null,
            "top": null,
            "visibility": null,
            "width": null
          }
        },
        "32f1cb5c86e64b7cb0dae502fffd2fcf": {
          "model_module": "@jupyter-widgets/controls",
          "model_name": "DescriptionStyleModel",
          "model_module_version": "1.5.0",
          "state": {
            "_model_module": "@jupyter-widgets/controls",
            "_model_module_version": "1.5.0",
            "_model_name": "DescriptionStyleModel",
            "_view_count": null,
            "_view_module": "@jupyter-widgets/base",
            "_view_module_version": "1.2.0",
            "_view_name": "StyleView",
            "description_width": ""
          }
        },
        "150351f1c3b24092aa63283bc76a27e9": {
          "model_module": "@jupyter-widgets/controls",
          "model_name": "HBoxModel",
          "model_module_version": "1.5.0",
          "state": {
            "_dom_classes": [],
            "_model_module": "@jupyter-widgets/controls",
            "_model_module_version": "1.5.0",
            "_model_name": "HBoxModel",
            "_view_count": null,
            "_view_module": "@jupyter-widgets/controls",
            "_view_module_version": "1.5.0",
            "_view_name": "HBoxView",
            "box_style": "",
            "children": [
              "IPY_MODEL_1c32f97fafe447469afdfb7140bf79ec",
              "IPY_MODEL_93291ba5c3494b7b992025d6905726ea",
              "IPY_MODEL_9bdd2349d6c641d1bacc24b2bd8dd4db"
            ],
            "layout": "IPY_MODEL_c3ee165ca75a44f8820fe326f9e5e9b8"
          }
        },
        "1c32f97fafe447469afdfb7140bf79ec": {
          "model_module": "@jupyter-widgets/controls",
          "model_name": "HTMLModel",
          "model_module_version": "1.5.0",
          "state": {
            "_dom_classes": [],
            "_model_module": "@jupyter-widgets/controls",
            "_model_module_version": "1.5.0",
            "_model_name": "HTMLModel",
            "_view_count": null,
            "_view_module": "@jupyter-widgets/controls",
            "_view_module_version": "1.5.0",
            "_view_name": "HTMLView",
            "description": "",
            "description_tooltip": null,
            "layout": "IPY_MODEL_7764eff7bf5448dd9f7ed19afa823a59",
            "placeholder": "​",
            "style": "IPY_MODEL_6851f72860b444dabf8c5bbb34ebc6fd",
            "value": "100%"
          }
        },
        "93291ba5c3494b7b992025d6905726ea": {
          "model_module": "@jupyter-widgets/controls",
          "model_name": "FloatProgressModel",
          "model_module_version": "1.5.0",
          "state": {
            "_dom_classes": [],
            "_model_module": "@jupyter-widgets/controls",
            "_model_module_version": "1.5.0",
            "_model_name": "FloatProgressModel",
            "_view_count": null,
            "_view_module": "@jupyter-widgets/controls",
            "_view_module_version": "1.5.0",
            "_view_name": "ProgressView",
            "bar_style": "success",
            "description": "",
            "description_tooltip": null,
            "layout": "IPY_MODEL_d4208e4e13ac4e4eab92b5bbe530462f",
            "max": 1262868003,
            "min": 0,
            "orientation": "horizontal",
            "style": "IPY_MODEL_e6803948713044f4a32ca36da99c8b82",
            "value": 1262868003
          }
        },
        "9bdd2349d6c641d1bacc24b2bd8dd4db": {
          "model_module": "@jupyter-widgets/controls",
          "model_name": "HTMLModel",
          "model_module_version": "1.5.0",
          "state": {
            "_dom_classes": [],
            "_model_module": "@jupyter-widgets/controls",
            "_model_module_version": "1.5.0",
            "_model_name": "HTMLModel",
            "_view_count": null,
            "_view_module": "@jupyter-widgets/controls",
            "_view_module_version": "1.5.0",
            "_view_name": "HTMLView",
            "description": "",
            "description_tooltip": null,
            "layout": "IPY_MODEL_da59807d573a4e088e06fd1252be5167",
            "placeholder": "​",
            "style": "IPY_MODEL_068614eace0945fd95ec48ebee8daaed",
            "value": " 1.26G/1.26G [00:19&lt;00:00, 79.6MiB/s]"
          }
        },
        "c3ee165ca75a44f8820fe326f9e5e9b8": {
          "model_module": "@jupyter-widgets/base",
          "model_name": "LayoutModel",
          "model_module_version": "1.2.0",
          "state": {
            "_model_module": "@jupyter-widgets/base",
            "_model_module_version": "1.2.0",
            "_model_name": "LayoutModel",
            "_view_count": null,
            "_view_module": "@jupyter-widgets/base",
            "_view_module_version": "1.2.0",
            "_view_name": "LayoutView",
            "align_content": null,
            "align_items": null,
            "align_self": null,
            "border": null,
            "bottom": null,
            "display": null,
            "flex": null,
            "flex_flow": null,
            "grid_area": null,
            "grid_auto_columns": null,
            "grid_auto_flow": null,
            "grid_auto_rows": null,
            "grid_column": null,
            "grid_gap": null,
            "grid_row": null,
            "grid_template_areas": null,
            "grid_template_columns": null,
            "grid_template_rows": null,
            "height": null,
            "justify_content": null,
            "justify_items": null,
            "left": null,
            "margin": null,
            "max_height": null,
            "max_width": null,
            "min_height": null,
            "min_width": null,
            "object_fit": null,
            "object_position": null,
            "order": null,
            "overflow": null,
            "overflow_x": null,
            "overflow_y": null,
            "padding": null,
            "right": null,
            "top": null,
            "visibility": null,
            "width": null
          }
        },
        "7764eff7bf5448dd9f7ed19afa823a59": {
          "model_module": "@jupyter-widgets/base",
          "model_name": "LayoutModel",
          "model_module_version": "1.2.0",
          "state": {
            "_model_module": "@jupyter-widgets/base",
            "_model_module_version": "1.2.0",
            "_model_name": "LayoutModel",
            "_view_count": null,
            "_view_module": "@jupyter-widgets/base",
            "_view_module_version": "1.2.0",
            "_view_name": "LayoutView",
            "align_content": null,
            "align_items": null,
            "align_self": null,
            "border": null,
            "bottom": null,
            "display": null,
            "flex": null,
            "flex_flow": null,
            "grid_area": null,
            "grid_auto_columns": null,
            "grid_auto_flow": null,
            "grid_auto_rows": null,
            "grid_column": null,
            "grid_gap": null,
            "grid_row": null,
            "grid_template_areas": null,
            "grid_template_columns": null,
            "grid_template_rows": null,
            "height": null,
            "justify_content": null,
            "justify_items": null,
            "left": null,
            "margin": null,
            "max_height": null,
            "max_width": null,
            "min_height": null,
            "min_width": null,
            "object_fit": null,
            "object_position": null,
            "order": null,
            "overflow": null,
            "overflow_x": null,
            "overflow_y": null,
            "padding": null,
            "right": null,
            "top": null,
            "visibility": null,
            "width": null
          }
        },
        "6851f72860b444dabf8c5bbb34ebc6fd": {
          "model_module": "@jupyter-widgets/controls",
          "model_name": "DescriptionStyleModel",
          "model_module_version": "1.5.0",
          "state": {
            "_model_module": "@jupyter-widgets/controls",
            "_model_module_version": "1.5.0",
            "_model_name": "DescriptionStyleModel",
            "_view_count": null,
            "_view_module": "@jupyter-widgets/base",
            "_view_module_version": "1.2.0",
            "_view_name": "StyleView",
            "description_width": ""
          }
        },
        "d4208e4e13ac4e4eab92b5bbe530462f": {
          "model_module": "@jupyter-widgets/base",
          "model_name": "LayoutModel",
          "model_module_version": "1.2.0",
          "state": {
            "_model_module": "@jupyter-widgets/base",
            "_model_module_version": "1.2.0",
            "_model_name": "LayoutModel",
            "_view_count": null,
            "_view_module": "@jupyter-widgets/base",
            "_view_module_version": "1.2.0",
            "_view_name": "LayoutView",
            "align_content": null,
            "align_items": null,
            "align_self": null,
            "border": null,
            "bottom": null,
            "display": null,
            "flex": null,
            "flex_flow": null,
            "grid_area": null,
            "grid_auto_columns": null,
            "grid_auto_flow": null,
            "grid_auto_rows": null,
            "grid_column": null,
            "grid_gap": null,
            "grid_row": null,
            "grid_template_areas": null,
            "grid_template_columns": null,
            "grid_template_rows": null,
            "height": null,
            "justify_content": null,
            "justify_items": null,
            "left": null,
            "margin": null,
            "max_height": null,
            "max_width": null,
            "min_height": null,
            "min_width": null,
            "object_fit": null,
            "object_position": null,
            "order": null,
            "overflow": null,
            "overflow_x": null,
            "overflow_y": null,
            "padding": null,
            "right": null,
            "top": null,
            "visibility": null,
            "width": null
          }
        },
        "e6803948713044f4a32ca36da99c8b82": {
          "model_module": "@jupyter-widgets/controls",
          "model_name": "ProgressStyleModel",
          "model_module_version": "1.5.0",
          "state": {
            "_model_module": "@jupyter-widgets/controls",
            "_model_module_version": "1.5.0",
            "_model_name": "ProgressStyleModel",
            "_view_count": null,
            "_view_module": "@jupyter-widgets/base",
            "_view_module_version": "1.2.0",
            "_view_name": "StyleView",
            "bar_color": null,
            "description_width": ""
          }
        },
        "da59807d573a4e088e06fd1252be5167": {
          "model_module": "@jupyter-widgets/base",
          "model_name": "LayoutModel",
          "model_module_version": "1.2.0",
          "state": {
            "_model_module": "@jupyter-widgets/base",
            "_model_module_version": "1.2.0",
            "_model_name": "LayoutModel",
            "_view_count": null,
            "_view_module": "@jupyter-widgets/base",
            "_view_module_version": "1.2.0",
            "_view_name": "LayoutView",
            "align_content": null,
            "align_items": null,
            "align_self": null,
            "border": null,
            "bottom": null,
            "display": null,
            "flex": null,
            "flex_flow": null,
            "grid_area": null,
            "grid_auto_columns": null,
            "grid_auto_flow": null,
            "grid_auto_rows": null,
            "grid_column": null,
            "grid_gap": null,
            "grid_row": null,
            "grid_template_areas": null,
            "grid_template_columns": null,
            "grid_template_rows": null,
            "height": null,
            "justify_content": null,
            "justify_items": null,
            "left": null,
            "margin": null,
            "max_height": null,
            "max_width": null,
            "min_height": null,
            "min_width": null,
            "object_fit": null,
            "object_position": null,
            "order": null,
            "overflow": null,
            "overflow_x": null,
            "overflow_y": null,
            "padding": null,
            "right": null,
            "top": null,
            "visibility": null,
            "width": null
          }
        },
        "068614eace0945fd95ec48ebee8daaed": {
          "model_module": "@jupyter-widgets/controls",
          "model_name": "DescriptionStyleModel",
          "model_module_version": "1.5.0",
          "state": {
            "_model_module": "@jupyter-widgets/controls",
            "_model_module_version": "1.5.0",
            "_model_name": "DescriptionStyleModel",
            "_view_count": null,
            "_view_module": "@jupyter-widgets/base",
            "_view_module_version": "1.2.0",
            "_view_name": "StyleView",
            "description_width": ""
          }
        },
        "0a7ca7f596f247a8b0d911d681ed1a3c": {
          "model_module": "@jupyter-widgets/controls",
          "model_name": "HBoxModel",
          "model_module_version": "1.5.0",
          "state": {
            "_dom_classes": [],
            "_model_module": "@jupyter-widgets/controls",
            "_model_module_version": "1.5.0",
            "_model_name": "HBoxModel",
            "_view_count": null,
            "_view_module": "@jupyter-widgets/controls",
            "_view_module_version": "1.5.0",
            "_view_name": "HBoxView",
            "box_style": "",
            "children": [
              "IPY_MODEL_878f96d31b6f4cac8fe819359387c02e",
              "IPY_MODEL_2ca1f5b87ff6453db1bd996e42e7dd4c",
              "IPY_MODEL_6d30f533a8624e60b32655e0eaaa2da1"
            ],
            "layout": "IPY_MODEL_680dda428f5040babeac50cd6da56550"
          }
        },
        "878f96d31b6f4cac8fe819359387c02e": {
          "model_module": "@jupyter-widgets/controls",
          "model_name": "HTMLModel",
          "model_module_version": "1.5.0",
          "state": {
            "_dom_classes": [],
            "_model_module": "@jupyter-widgets/controls",
            "_model_module_version": "1.5.0",
            "_model_name": "HTMLModel",
            "_view_count": null,
            "_view_module": "@jupyter-widgets/controls",
            "_view_module_version": "1.5.0",
            "_view_name": "HTMLView",
            "description": "",
            "description_tooltip": null,
            "layout": "IPY_MODEL_f5d92f89def14017a2959036321a800a",
            "placeholder": "​",
            "style": "IPY_MODEL_e0d9cd371ffa47e4bbd40f3e6b58ad1c",
            "value": "100%"
          }
        },
        "2ca1f5b87ff6453db1bd996e42e7dd4c": {
          "model_module": "@jupyter-widgets/controls",
          "model_name": "FloatProgressModel",
          "model_module_version": "1.5.0",
          "state": {
            "_dom_classes": [],
            "_model_module": "@jupyter-widgets/controls",
            "_model_module_version": "1.5.0",
            "_model_name": "FloatProgressModel",
            "_view_count": null,
            "_view_module": "@jupyter-widgets/controls",
            "_view_module_version": "1.5.0",
            "_view_name": "ProgressView",
            "bar_style": "success",
            "description": "",
            "description_tooltip": null,
            "layout": "IPY_MODEL_901ffd93654f4e1188eb2a700a17fd5b",
            "max": 64,
            "min": 0,
            "orientation": "horizontal",
            "style": "IPY_MODEL_a880657115d74dae9122a89e3a471fe3",
            "value": 64
          }
        },
        "6d30f533a8624e60b32655e0eaaa2da1": {
          "model_module": "@jupyter-widgets/controls",
          "model_name": "HTMLModel",
          "model_module_version": "1.5.0",
          "state": {
            "_dom_classes": [],
            "_model_module": "@jupyter-widgets/controls",
            "_model_module_version": "1.5.0",
            "_model_name": "HTMLModel",
            "_view_count": null,
            "_view_module": "@jupyter-widgets/controls",
            "_view_module_version": "1.5.0",
            "_view_name": "HTMLView",
            "description": "",
            "description_tooltip": null,
            "layout": "IPY_MODEL_b44448fba66b44bda1c9a87c04eaea93",
            "placeholder": "​",
            "style": "IPY_MODEL_c37c6ae8bc9344d0a7a1ccb252b006b6",
            "value": " 64/64 [00:28&lt;00:00,  2.63it/s]"
          }
        },
        "680dda428f5040babeac50cd6da56550": {
          "model_module": "@jupyter-widgets/base",
          "model_name": "LayoutModel",
          "model_module_version": "1.2.0",
          "state": {
            "_model_module": "@jupyter-widgets/base",
            "_model_module_version": "1.2.0",
            "_model_name": "LayoutModel",
            "_view_count": null,
            "_view_module": "@jupyter-widgets/base",
            "_view_module_version": "1.2.0",
            "_view_name": "LayoutView",
            "align_content": null,
            "align_items": null,
            "align_self": null,
            "border": null,
            "bottom": null,
            "display": null,
            "flex": null,
            "flex_flow": null,
            "grid_area": null,
            "grid_auto_columns": null,
            "grid_auto_flow": null,
            "grid_auto_rows": null,
            "grid_column": null,
            "grid_gap": null,
            "grid_row": null,
            "grid_template_areas": null,
            "grid_template_columns": null,
            "grid_template_rows": null,
            "height": null,
            "justify_content": null,
            "justify_items": null,
            "left": null,
            "margin": null,
            "max_height": null,
            "max_width": null,
            "min_height": null,
            "min_width": null,
            "object_fit": null,
            "object_position": null,
            "order": null,
            "overflow": null,
            "overflow_x": null,
            "overflow_y": null,
            "padding": null,
            "right": null,
            "top": null,
            "visibility": null,
            "width": null
          }
        },
        "f5d92f89def14017a2959036321a800a": {
          "model_module": "@jupyter-widgets/base",
          "model_name": "LayoutModel",
          "model_module_version": "1.2.0",
          "state": {
            "_model_module": "@jupyter-widgets/base",
            "_model_module_version": "1.2.0",
            "_model_name": "LayoutModel",
            "_view_count": null,
            "_view_module": "@jupyter-widgets/base",
            "_view_module_version": "1.2.0",
            "_view_name": "LayoutView",
            "align_content": null,
            "align_items": null,
            "align_self": null,
            "border": null,
            "bottom": null,
            "display": null,
            "flex": null,
            "flex_flow": null,
            "grid_area": null,
            "grid_auto_columns": null,
            "grid_auto_flow": null,
            "grid_auto_rows": null,
            "grid_column": null,
            "grid_gap": null,
            "grid_row": null,
            "grid_template_areas": null,
            "grid_template_columns": null,
            "grid_template_rows": null,
            "height": null,
            "justify_content": null,
            "justify_items": null,
            "left": null,
            "margin": null,
            "max_height": null,
            "max_width": null,
            "min_height": null,
            "min_width": null,
            "object_fit": null,
            "object_position": null,
            "order": null,
            "overflow": null,
            "overflow_x": null,
            "overflow_y": null,
            "padding": null,
            "right": null,
            "top": null,
            "visibility": null,
            "width": null
          }
        },
        "e0d9cd371ffa47e4bbd40f3e6b58ad1c": {
          "model_module": "@jupyter-widgets/controls",
          "model_name": "DescriptionStyleModel",
          "model_module_version": "1.5.0",
          "state": {
            "_model_module": "@jupyter-widgets/controls",
            "_model_module_version": "1.5.0",
            "_model_name": "DescriptionStyleModel",
            "_view_count": null,
            "_view_module": "@jupyter-widgets/base",
            "_view_module_version": "1.2.0",
            "_view_name": "StyleView",
            "description_width": ""
          }
        },
        "901ffd93654f4e1188eb2a700a17fd5b": {
          "model_module": "@jupyter-widgets/base",
          "model_name": "LayoutModel",
          "model_module_version": "1.2.0",
          "state": {
            "_model_module": "@jupyter-widgets/base",
            "_model_module_version": "1.2.0",
            "_model_name": "LayoutModel",
            "_view_count": null,
            "_view_module": "@jupyter-widgets/base",
            "_view_module_version": "1.2.0",
            "_view_name": "LayoutView",
            "align_content": null,
            "align_items": null,
            "align_self": null,
            "border": null,
            "bottom": null,
            "display": null,
            "flex": null,
            "flex_flow": null,
            "grid_area": null,
            "grid_auto_columns": null,
            "grid_auto_flow": null,
            "grid_auto_rows": null,
            "grid_column": null,
            "grid_gap": null,
            "grid_row": null,
            "grid_template_areas": null,
            "grid_template_columns": null,
            "grid_template_rows": null,
            "height": null,
            "justify_content": null,
            "justify_items": null,
            "left": null,
            "margin": null,
            "max_height": null,
            "max_width": null,
            "min_height": null,
            "min_width": null,
            "object_fit": null,
            "object_position": null,
            "order": null,
            "overflow": null,
            "overflow_x": null,
            "overflow_y": null,
            "padding": null,
            "right": null,
            "top": null,
            "visibility": null,
            "width": null
          }
        },
        "a880657115d74dae9122a89e3a471fe3": {
          "model_module": "@jupyter-widgets/controls",
          "model_name": "ProgressStyleModel",
          "model_module_version": "1.5.0",
          "state": {
            "_model_module": "@jupyter-widgets/controls",
            "_model_module_version": "1.5.0",
            "_model_name": "ProgressStyleModel",
            "_view_count": null,
            "_view_module": "@jupyter-widgets/base",
            "_view_module_version": "1.2.0",
            "_view_name": "StyleView",
            "bar_color": null,
            "description_width": ""
          }
        },
        "b44448fba66b44bda1c9a87c04eaea93": {
          "model_module": "@jupyter-widgets/base",
          "model_name": "LayoutModel",
          "model_module_version": "1.2.0",
          "state": {
            "_model_module": "@jupyter-widgets/base",
            "_model_module_version": "1.2.0",
            "_model_name": "LayoutModel",
            "_view_count": null,
            "_view_module": "@jupyter-widgets/base",
            "_view_module_version": "1.2.0",
            "_view_name": "LayoutView",
            "align_content": null,
            "align_items": null,
            "align_self": null,
            "border": null,
            "bottom": null,
            "display": null,
            "flex": null,
            "flex_flow": null,
            "grid_area": null,
            "grid_auto_columns": null,
            "grid_auto_flow": null,
            "grid_auto_rows": null,
            "grid_column": null,
            "grid_gap": null,
            "grid_row": null,
            "grid_template_areas": null,
            "grid_template_columns": null,
            "grid_template_rows": null,
            "height": null,
            "justify_content": null,
            "justify_items": null,
            "left": null,
            "margin": null,
            "max_height": null,
            "max_width": null,
            "min_height": null,
            "min_width": null,
            "object_fit": null,
            "object_position": null,
            "order": null,
            "overflow": null,
            "overflow_x": null,
            "overflow_y": null,
            "padding": null,
            "right": null,
            "top": null,
            "visibility": null,
            "width": null
          }
        },
        "c37c6ae8bc9344d0a7a1ccb252b006b6": {
          "model_module": "@jupyter-widgets/controls",
          "model_name": "DescriptionStyleModel",
          "model_module_version": "1.5.0",
          "state": {
            "_model_module": "@jupyter-widgets/controls",
            "_model_module_version": "1.5.0",
            "_model_name": "DescriptionStyleModel",
            "_view_count": null,
            "_view_module": "@jupyter-widgets/base",
            "_view_module_version": "1.2.0",
            "_view_name": "StyleView",
            "description_width": ""
          }
        },
        "2168c46ab357498f81bb67e8481d3ac5": {
          "model_module": "@jupyter-widgets/controls",
          "model_name": "HTMLModel",
          "model_module_version": "1.5.0",
          "state": {
            "_dom_classes": [],
            "_model_module": "@jupyter-widgets/controls",
            "_model_module_version": "1.5.0",
            "_model_name": "HTMLModel",
            "_view_count": null,
            "_view_module": "@jupyter-widgets/controls",
            "_view_module_version": "1.5.0",
            "_view_name": "HTMLView",
            "description": "",
            "description_tooltip": null,
            "layout": "IPY_MODEL_30a3ba27be1543d3aa0755e5a381405a",
            "placeholder": "​",
            "style": "IPY_MODEL_2d6e5cd427f741dd9d04ed921f0bcdc5",
            "value": "<img src=\"data:image/gif;base64,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\" />"
          }
        },
        "30a3ba27be1543d3aa0755e5a381405a": {
          "model_module": "@jupyter-widgets/base",
          "model_name": "LayoutModel",
          "model_module_version": "1.2.0",
          "state": {
            "_model_module": "@jupyter-widgets/base",
            "_model_module_version": "1.2.0",
            "_model_name": "LayoutModel",
            "_view_count": null,
            "_view_module": "@jupyter-widgets/base",
            "_view_module_version": "1.2.0",
            "_view_name": "LayoutView",
            "align_content": null,
            "align_items": null,
            "align_self": null,
            "border": null,
            "bottom": null,
            "display": null,
            "flex": null,
            "flex_flow": null,
            "grid_area": null,
            "grid_auto_columns": null,
            "grid_auto_flow": null,
            "grid_auto_rows": null,
            "grid_column": null,
            "grid_gap": null,
            "grid_row": null,
            "grid_template_areas": null,
            "grid_template_columns": null,
            "grid_template_rows": null,
            "height": null,
            "justify_content": null,
            "justify_items": null,
            "left": null,
            "margin": null,
            "max_height": null,
            "max_width": null,
            "min_height": null,
            "min_width": null,
            "object_fit": null,
            "object_position": null,
            "order": null,
            "overflow": null,
            "overflow_x": null,
            "overflow_y": null,
            "padding": null,
            "right": null,
            "top": null,
            "visibility": null,
            "width": null
          }
        },
        "2d6e5cd427f741dd9d04ed921f0bcdc5": {
          "model_module": "@jupyter-widgets/controls",
          "model_name": "DescriptionStyleModel",
          "model_module_version": "1.5.0",
          "state": {
            "_model_module": "@jupyter-widgets/controls",
            "_model_module_version": "1.5.0",
            "_model_name": "DescriptionStyleModel",
            "_view_count": null,
            "_view_module": "@jupyter-widgets/base",
            "_view_module_version": "1.2.0",
            "_view_name": "StyleView",
            "description_width": ""
          }
        }
      }
    }
  },
  "nbformat": 4,
  "nbformat_minor": 0
}